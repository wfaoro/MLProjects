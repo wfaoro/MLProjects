{
  "nbformat": 4,
  "nbformat_minor": 0,
  "metadata": {
    "colab": {
      "name": "William Faoro's PS1 (CLEAN).ipynb",
      "provenance": [],
      "collapsed_sections": []
    },
    "kernelspec": {
      "display_name": "Python 3",
      "name": "python3"
    }
  },
  "cells": [
    {
      "cell_type": "markdown",
      "metadata": {
        "id": "VK8GtdyEdUQQ"
      },
      "source": [
        "# Problem Set 1: Python Basics & Google Colab\n",
        "# CMSC 422, Fall 2021\n",
        "# Due Sep 16 at 3:30pm\n",
        "\n",
        "<center>\n",
        "<img src=\"https://drive.google.com/thumbnail?id=10LxppASnHnd2eCX54kLi_1Ozs7-JVDs5&sz=w1000\" alt=\"iq_hist\" width=\"500px\"/>\n",
        "</center>"
      ]
    },
    {
      "cell_type": "markdown",
      "metadata": {
        "id": "DyDtS2Npc2lI"
      },
      "source": [
        "# Instructions\n",
        "\n",
        "As you can see in the table of contents, this notebook contains 2 parts:\n",
        "1. Tutorial (ungraded)\n",
        "2. Problems (graded)\n",
        "\n",
        "Start by reading through __Part 1__ to get familiar with what you can do in Google Colab (taken from Google's publicly available examples). Then, move on to __Part 2__ where you will be instructed to implement some basic $\\LaTeX$ and Python.\n",
        "\n",
        "__Submission:__ Once you have completed the problems, download this Colab notebook **as a notebook file** by navigating to `File > Download .ipynb`, and submit it on Gradescope. This assignment will be partially autograded so follow instructions closely.  \n",
        "\n",
        "- Make sure your plots are visible when downloading the notebook, otherwise they won't appear on Gradescope. \n",
        "- Make sure your code cells are not throwing exceptions.\n",
        "- Please do not import any packages other than what has already been imported here. You may be penalized for doing so."
      ]
    },
    {
      "cell_type": "markdown",
      "metadata": {
        "id": "10h-FjjRgk2R"
      },
      "source": [
        "# Part 1: Tutorial (ungraded)"
      ]
    },
    {
      "cell_type": "markdown",
      "metadata": {
        "id": "JyG45Qk3qQLS"
      },
      "source": [
        "## Cells\n",
        "A notebook is a list of cells. Cells contain either explanatory text or executable code and its output. Click a cell to select it."
      ]
    },
    {
      "cell_type": "markdown",
      "metadata": {
        "id": "KR921S_OQSHG"
      },
      "source": [
        "### Code cells\n",
        "Below is a **code cell**. Once the toolbar button indicates CONNECTED, click in the cell to select it and execute the contents in the following ways:\n",
        "\n",
        "* Click the **Play icon** in the left gutter of the cell;\n",
        "* Type **Cmd/Ctrl+Enter** to run the cell in place;\n",
        "* Type **Shift+Enter** to run the cell and move focus to the next cell (adding one if none exists); or\n",
        "* Type **Alt+Enter** to run the cell and insert a new code cell immediately below it.\n",
        "\n",
        "There are additional options for running some or all cells in the **Runtime** menu.\n"
      ]
    },
    {
      "cell_type": "code",
      "metadata": {
        "id": "WUtu4316QSHL",
        "colab": {
          "base_uri": "https://localhost:8080/"
        },
        "outputId": "166848d3-73b7-44cb-dc70-c82066a870db"
      },
      "source": [
        "#@title\n",
        "a = 10\n",
        "a"
      ],
      "execution_count": 9,
      "outputs": [
        {
          "output_type": "execute_result",
          "data": {
            "text/plain": [
              "10"
            ]
          },
          "metadata": {},
          "execution_count": 9
        }
      ]
    },
    {
      "cell_type": "markdown",
      "metadata": {
        "id": "Id6tDF1HQSHD"
      },
      "source": [
        "### Text cells\n",
        "This is a **text cell**. You can **double-click** to edit this cell. Text cells\n",
        "use markdown syntax. To learn more, see our [markdown\n",
        "guide](/notebooks/markdown_guide.ipynb).\n",
        "\n",
        "You can also add math to text cells using [LaTeX](http://www.latex-project.org/)\n",
        "to be rendered by [MathJax](https://www.mathjax.org). Just place the statement\n",
        "within a pair of **\\$** signs. For example `$\\sqrt{3x-1}+(1+x)^2$` becomes\n",
        "$\\sqrt{3x-1}+(1+x)^2.$\n"
      ]
    },
    {
      "cell_type": "markdown",
      "metadata": {
        "id": "7bqjkGKwQSHW"
      },
      "source": [
        "### Adding and moving cells\n",
        "You can add new cells by using the **+ CODE** and **+ TEXT** buttons that show when you hover between cells. These buttons are also in the toolbar above the notebook where they can be used to add a cell below the currently selected cell.\n",
        "\n",
        "You can move a cell by selecting it and clicking **Cell Up** or **Cell Down** in the top toolbar. \n",
        "\n",
        "Consecutive cells can be selected by \"lasso selection\" by dragging from outside one cell and through the group.  Non-adjacent cells can be selected concurrently by clicking one and then holding down Ctrl while clicking another.  Similarly, using Shift instead of Ctrl will select all intermediate cells."
      ]
    },
    {
      "cell_type": "markdown",
      "metadata": {
        "id": "GOwlZRXEQSHZ"
      },
      "source": [
        "## Working with python\n",
        "Colaboratory is built on top of [Jupyter Notebook](https://jupyter.org/). Below are some examples of convenience functions provided."
      ]
    },
    {
      "cell_type": "markdown",
      "metadata": {
        "id": "RVuqWUXPQSHa"
      },
      "source": [
        "Long running python processes can be interrupted. Run the following cell and select **Runtime -> Interrupt execution** (*hotkey: Cmd/Ctrl-M I*) to stop execution."
      ]
    },
    {
      "cell_type": "code",
      "metadata": {
        "cellView": "both",
        "id": "d-S-3nYLQSHb",
        "colab": {
          "base_uri": "https://localhost:8080/"
        },
        "outputId": "92756df2-4964-47f5-91ca-dcaa6b6d07f5"
      },
      "source": [
        "import time\n",
        "print(\"Sleeping\")\n",
        "time.sleep(5) # sleep for a while; interrupt me!\n",
        "print(\"Done Sleeping\")"
      ],
      "execution_count": 10,
      "outputs": [
        {
          "output_type": "stream",
          "name": "stdout",
          "text": [
            "Sleeping\n",
            "Done Sleeping\n"
          ]
        }
      ]
    },
    {
      "cell_type": "markdown",
      "metadata": {
        "id": "Wej_mEyXQSHc"
      },
      "source": [
        "### System aliases\n",
        "\n",
        "Jupyter includes shortcuts for common operations, such as ls:"
      ]
    },
    {
      "cell_type": "code",
      "metadata": {
        "cellView": "both",
        "id": "5OCYEvK5QSHf",
        "colab": {
          "base_uri": "https://localhost:8080/"
        },
        "outputId": "94d5d70f-d373-436d-e331-f7d66fd948df"
      },
      "source": [
        "!ls /bin"
      ],
      "execution_count": 11,
      "outputs": [
        {
          "output_type": "stream",
          "name": "stdout",
          "text": [
            "bash\t       hostname       su\n",
            "bunzip2        journalctl     sync\n",
            "bzcat\t       kill\t      systemctl\n",
            "bzcmp\t       kmod\t      systemd\n",
            "bzdiff\t       less\t      systemd-ask-password\n",
            "bzegrep        lessecho       systemd-escape\n",
            "bzexe\t       lessfile       systemd-hwdb\n",
            "bzfgrep        lesskey\t      systemd-inhibit\n",
            "bzgrep\t       lesspipe       systemd-machine-id-setup\n",
            "bzip2\t       ln\t      systemd-notify\n",
            "bzip2recover   login\t      systemd-sysusers\n",
            "bzless\t       loginctl       systemd-tmpfiles\n",
            "bzmore\t       ls\t      systemd-tty-ask-password-agent\n",
            "cat\t       lsblk\t      tar\n",
            "chgrp\t       lsmod\t      tempfile\n",
            "chmod\t       mkdir\t      touch\n",
            "chown\t       mknod\t      true\n",
            "cp\t       mktemp\t      udevadm\n",
            "dash\t       more\t      ulockmgr_server\n",
            "date\t       mount\t      umount\n",
            "dd\t       mountpoint     uname\n",
            "df\t       mv\t      uncompress\n",
            "dir\t       networkctl     vdir\n",
            "dmesg\t       nisdomainname  wdctl\n",
            "dnsdomainname  pidof\t      which\n",
            "domainname     ps\t      ypdomainname\n",
            "echo\t       pwd\t      zcat\n",
            "egrep\t       rbash\t      zcmp\n",
            "false\t       readlink       zdiff\n",
            "fgrep\t       rm\t      zegrep\n",
            "findmnt        rmdir\t      zfgrep\n",
            "fuser\t       run-parts      zforce\n",
            "fusermount     sed\t      zgrep\n",
            "grep\t       sh\t      zless\n",
            "gunzip\t       sh.distrib     zmore\n",
            "gzexe\t       sleep\t      znew\n",
            "gzip\t       stty\n"
          ]
        }
      ]
    },
    {
      "cell_type": "markdown",
      "metadata": {
        "id": "y8Da6JWKQSHh"
      },
      "source": [
        "That `!ls` probably generated a large output. You can select the cell and clear the output by either: \n",
        "\n",
        "1. Clicking on the clear output button (x) in the toolbar above the cell; or\n",
        "2. Right clicking the left gutter of the output area and selecting \"Clear output\" from the context menu.\n",
        "\n",
        "Execute any other process using `!` with string interpolation from python variables, and note the result can be assigned to a variable:"
      ]
    },
    {
      "cell_type": "code",
      "metadata": {
        "cellView": "both",
        "id": "zqGrv0blQSHj",
        "colab": {
          "base_uri": "https://localhost:8080/"
        },
        "outputId": "079f5924-0010-4e20-db47-93f19d8009a7"
      },
      "source": [
        "message = 'Colaboratory is great!'\n",
        "foo = !echo -e '$message\\n$message'\n",
        "foo"
      ],
      "execution_count": 12,
      "outputs": [
        {
          "output_type": "execute_result",
          "data": {
            "text/plain": [
              "['Colaboratory is great!', 'Colaboratory is great!']"
            ]
          },
          "metadata": {},
          "execution_count": 12
        }
      ]
    },
    {
      "cell_type": "markdown",
      "metadata": {
        "id": "qM4myQGfQboQ"
      },
      "source": [
        "### Magics\n",
        "Colaboratory shares the notion of magics from Jupyter. There are shorthand annotations that change how a cell's text is executed. To learn more, see [Jupyter's magics page](http://nbviewer.jupyter.org/github/ipython/ipython/blob/1.x/examples/notebooks/Cell%20Magics.ipynb). \n"
      ]
    },
    {
      "cell_type": "code",
      "metadata": {
        "cellView": "both",
        "id": "odfM-_GxWbCy",
        "colab": {
          "base_uri": "https://localhost:8080/",
          "height": 38
        },
        "outputId": "12bbbc39-5422-44fd-d35a-c0dbe61f505a"
      },
      "source": [
        "%%html\n",
        "<marquee style='width: 30%; color: blue;'><b>Whee!</b></marquee>"
      ],
      "execution_count": 13,
      "outputs": [
        {
          "output_type": "display_data",
          "data": {
            "text/html": [
              "<marquee style='width: 30%; color: blue;'><b>Whee!</b></marquee>"
            ],
            "text/plain": [
              "<IPython.core.display.HTML object>"
            ]
          },
          "metadata": {}
        }
      ]
    },
    {
      "cell_type": "code",
      "metadata": {
        "id": "_YrTcK7k22Fp",
        "colab": {
          "base_uri": "https://localhost:8080/",
          "height": 221
        },
        "outputId": "4023ecf6-a9e8-430e-bfab-dd28bcd0ea95"
      },
      "source": [
        "%%html\n",
        "<svg xmlns=\"http://www.w3.org/2000/svg\" viewBox=\"0 0 450 400\" width=\"200\" height=\"200\">\n",
        "  <rect x=\"80\" y=\"60\" width=\"250\" height=\"250\" rx=\"20\" style=\"fill:red; stroke:black; fill-opacity:0.7\" />\n",
        "  <rect x=\"180\" y=\"110\" width=\"250\" height=\"250\" rx=\"40\" style=\"fill:blue; stroke:black; fill-opacity:0.5;\" />\n",
        "</svg>"
      ],
      "execution_count": 14,
      "outputs": [
        {
          "output_type": "display_data",
          "data": {
            "text/html": [
              "<svg xmlns=\"http://www.w3.org/2000/svg\" viewBox=\"0 0 450 400\" width=\"200\" height=\"200\">\n",
              "  <rect x=\"80\" y=\"60\" width=\"250\" height=\"250\" rx=\"20\" style=\"fill:red; stroke:black; fill-opacity:0.7\" />\n",
              "  <rect x=\"180\" y=\"110\" width=\"250\" height=\"250\" rx=\"40\" style=\"fill:blue; stroke:black; fill-opacity:0.5;\" />\n",
              "</svg>"
            ],
            "text/plain": [
              "<IPython.core.display.HTML object>"
            ]
          },
          "metadata": {}
        }
      ]
    },
    {
      "cell_type": "markdown",
      "metadata": {
        "id": "d4L9TOP9QSHn"
      },
      "source": [
        "### Tab-completion and exploring code\n",
        "\n",
        "Colab provides tab completion to explore attributes of Python objects, as well as to quickly view documentation strings. As an example, first run the following cell to import the  [`numpy`](http://www.numpy.org) module."
      ]
    },
    {
      "cell_type": "code",
      "metadata": {
        "cellView": "both",
        "id": "Q0JKWcmtQSHp"
      },
      "source": [
        "import numpy as np"
      ],
      "execution_count": 15,
      "outputs": []
    },
    {
      "cell_type": "markdown",
      "metadata": {
        "id": "1M890-bXeyYp"
      },
      "source": [
        "If you now insert your cursor after ``np.random.`` and press **Ctrl+Spacebar**, you will see the list of available completions within the ``np.random`` submodule. Press **Tab** to auto-complete the code."
      ]
    },
    {
      "cell_type": "code",
      "metadata": {
        "cellView": "both",
        "id": "j6QRIfUHQSHq",
        "colab": {
          "base_uri": "https://localhost:8080/"
        },
        "outputId": "f5c27d85-9bd5-4245-bd40-3aefc7c344ae"
      },
      "source": [
        "np.random.beta"
      ],
      "execution_count": 16,
      "outputs": [
        {
          "output_type": "execute_result",
          "data": {
            "text/plain": [
              "<function RandomState.beta>"
            ]
          },
          "metadata": {},
          "execution_count": 16
        }
      ]
    },
    {
      "cell_type": "markdown",
      "metadata": {
        "id": "g6MfomFhQSHs"
      },
      "source": [
        "If you type an open parenthesis followed by **Ctrl+Spacebar** after any function or class in the module, you will see a pop-up of its documentation string:"
      ]
    },
    {
      "cell_type": "code",
      "metadata": {
        "cellView": "both",
        "id": "SD0XnrVhQSHt",
        "colab": {
          "base_uri": "https://localhost:8080/",
          "height": 266
        },
        "outputId": "22f4db37-e1f4-49fa-ecb3-115f48ae946d"
      },
      "source": [
        "np.random.rand(ascii)"
      ],
      "execution_count": 17,
      "outputs": [
        {
          "output_type": "error",
          "ename": "TypeError",
          "evalue": "ignored",
          "traceback": [
            "\u001b[0;31m---------------------------------------------------------------------------\u001b[0m",
            "\u001b[0;31mTypeError\u001b[0m                                 Traceback (most recent call last)",
            "\u001b[0;32m<ipython-input-17-e3aa6d9e6593>\u001b[0m in \u001b[0;36m<module>\u001b[0;34m()\u001b[0m\n\u001b[0;32m----> 1\u001b[0;31m \u001b[0mnp\u001b[0m\u001b[0;34m.\u001b[0m\u001b[0mrandom\u001b[0m\u001b[0;34m.\u001b[0m\u001b[0mrand\u001b[0m\u001b[0;34m(\u001b[0m\u001b[0mascii\u001b[0m\u001b[0;34m)\u001b[0m\u001b[0;34m\u001b[0m\u001b[0;34m\u001b[0m\u001b[0m\n\u001b[0m",
            "\u001b[0;32mmtrand.pyx\u001b[0m in \u001b[0;36mnumpy.random.mtrand.RandomState.rand\u001b[0;34m()\u001b[0m\n",
            "\u001b[0;32mmtrand.pyx\u001b[0m in \u001b[0;36mnumpy.random.mtrand.RandomState.random_sample\u001b[0;34m()\u001b[0m\n",
            "\u001b[0;32m_common.pyx\u001b[0m in \u001b[0;36mnumpy.random._common.double_fill\u001b[0;34m()\u001b[0m\n",
            "\u001b[0;31mTypeError\u001b[0m: 'builtin_function_or_method' object cannot be interpreted as an integer"
          ]
        }
      ]
    },
    {
      "cell_type": "markdown",
      "metadata": {
        "id": "9ReRLQaxJ-zP"
      },
      "source": [
        "To open the documentation in a persistent pane at the bottom of your screen, add a **?** after the object or method name and execute the cell using **Shift+Enter**:"
      ]
    },
    {
      "cell_type": "code",
      "metadata": {
        "cellView": "both",
        "id": "YgQ6Tu7DK17l"
      },
      "source": [
        "np.random?"
      ],
      "execution_count": null,
      "outputs": []
    },
    {
      "cell_type": "markdown",
      "metadata": {
        "id": "7cRnhv_7N4Pa"
      },
      "source": [
        "### Rich, interactive outputs\n",
        "Until now all of the generated outputs have been text, but they can be more interesting, like the chart below. "
      ]
    },
    {
      "cell_type": "code",
      "metadata": {
        "id": "JVXnTqyE9RET"
      },
      "source": [
        "import numpy as np\n",
        "from matplotlib import pyplot as plt\n",
        "\n",
        "# generate random data\n",
        "ys = 200 + np.random.randn(100)\n",
        "x = [x for x in range(len(ys))]\n",
        "\n",
        "# plot the data\n",
        "plt.plot(x, ys, '-')\n",
        "plt.fill_between(x, ys, 195, where=(ys > 195), facecolor='g', alpha=0.6)\n",
        "\n",
        "plt.title(\"Fills and Alpha Example\")\n",
        "plt.show()"
      ],
      "execution_count": null,
      "outputs": []
    },
    {
      "cell_type": "markdown",
      "metadata": {
        "id": "XFFcWsKEvQvi"
      },
      "source": [
        "## Errors and Debugging"
      ]
    },
    {
      "cell_type": "markdown",
      "metadata": {
        "id": "pqY_YyTWvXk3"
      },
      "source": [
        "Code development and data analysis always require a bit of trial and error, and IPython contains tools to streamline this process.\n",
        "This section will briefly cover some options for controlling Python's exception reporting, followed by exploring tools for debugging errors in code.\n",
        "\n",
        "**More reading**: https://colab.research.google.com/github/jakevdp/PythonDataScienceHandbook/blob/master/notebooks/01.06-Errors-and-Debugging.ipynb\n",
        "\n"
      ]
    },
    {
      "cell_type": "markdown",
      "metadata": {
        "id": "aro-UJgUQSH1"
      },
      "source": [
        "## Integration with Drive\n",
        "\n",
        "Colaboratory is integrated with Google Drive. It allows you to share, comment, and collaborate on the same document with multiple people:\n",
        "\n",
        "* The **SHARE** button (top-right of the toolbar) allows you to share the notebook and control permissions set on it.\n",
        "\n",
        "* **File->Make a Copy** creates a copy of the notebook in Drive.\n",
        "\n",
        "* **File->Save** saves the File to Drive. **File->Save and checkpoint** pins the version so it doesn't get deleted from the revision history. \n",
        "\n",
        "* **File->Revision history** shows the notebook's revision history. "
      ]
    },
    {
      "cell_type": "markdown",
      "metadata": {
        "id": "4hfV37gxpP_c"
      },
      "source": [
        "## Commenting on a cell\n",
        "You can comment on a Colaboratory notebook like you would on a Google Document. Comments are attached to cells, and are displayed next to the cell they refer to. If you have **comment-only** permissions, you will see a comment button on the top right of the cell when you hover over it.\n",
        "\n",
        "If you have edit or comment permissions you can comment on a cell in one of three ways: \n",
        "\n",
        "1. Select a cell and click the comment button in the toolbar above the top-right corner of the cell.\n",
        "1. Right click a text cell and select **Add a comment** from the context menu.\n",
        "3. Use the shortcut **Ctrl+Shift+M** to add a comment to the currently selected cell. \n",
        "\n",
        "You can resolve and reply to comments, and you can target comments to specific collaborators by typing *+[email address]* (e.g., `+user@domain.com`). Addressed collaborators will be emailed. \n",
        "\n",
        "The Comment button in the top-right corner of the page shows all comments attached to the notebook."
      ]
    },
    {
      "cell_type": "markdown",
      "metadata": {
        "id": "-Rh3-Vt9Nev9"
      },
      "source": [
        "## More Resources\n",
        "\n",
        "### Working with Notebooks in Colab\n",
        "- [Overview of Colaboratory](/notebooks/basic_features_overview.ipynb)\n",
        "- [Guide to Markdown](/notebooks/markdown_guide.ipynb)\n",
        "- [Importing libraries and installing dependencies](/notebooks/snippets/importing_libraries.ipynb)\n",
        "- [Saving and loading notebooks in GitHub](https://colab.research.google.com/github/googlecolab/colabtools/blob/master/notebooks/colab-github-demo.ipynb)\n",
        "\n",
        "Reference: https://colab.research.google.com/?utm_source=scs-index#scrollTo=-Rh3-Vt9Nev9"
      ]
    },
    {
      "cell_type": "markdown",
      "metadata": {
        "id": "3ackPzzscEc2"
      },
      "source": [
        "# Part 2: Problems (graded)\n"
      ]
    },
    {
      "cell_type": "markdown",
      "metadata": {
        "id": "Pj4kPvjMcOBw"
      },
      "source": [
        "## Problem 1 - Basic $\\LaTeX$ (10 points)\n",
        "\n",
        "Inside this cell, write a $\\LaTeX$ expression for the regularized loss function of gradient descent shown below (the loss function is given below, you don't need to know anything about this function yet, the goal is just to practice $\\LaTeX$):\n",
        "\n",
        "![ps1.1.png](data:image/png;base64,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)\n",
        "\n",
        "Here's some resources:\n",
        "- [$\\LaTeX$ Cheat Sheet](https://drive.google.com/file/d/1_xlnqVRvoxo2WNb-URluevACYj4h-hlk/view?usp=sharing)\n",
        "- [$\\LaTeX$ Tutorials](https://www.latex-tutorial.com/tutorials/amsmath)\n",
        "\n",
        "---\n",
        "Add your expression here: $\\mathscr{L(\\omega,b)=\\sum\\limits_n{\\exp[-y_n(\\omega\\cdot x_n + b)]+\\frac{\\lambda}{2}||\\omega||^2}}$\n"
      ]
    },
    {
      "cell_type": "markdown",
      "metadata": {
        "id": "wTtB54OE9uHe"
      },
      "source": [
        "## Problem 2 - Python Basics (50 points)"
      ]
    },
    {
      "cell_type": "markdown",
      "metadata": {
        "id": "M9YqI2eLnY1h"
      },
      "source": [
        "### 2.1 Syntax (15 points)\n",
        "\n",
        "Implement a class called `NumPower` in the code cell below. The class will contain a constructor function and a function for the object's string representaion. \n",
        "1. The object will store 2 variables: a positive integer base and a positive integer exponent number with default values of base `3` and exponent `5` respectively.\n",
        "2. The representation of a `NumPower` object should be __vertical__  created with the base and the exponent number stored by the object. (see examples below). You need to use list comprehension to collect the number from $base^1$ to $base^{exponent}$ number in ascending order. \n",
        "\n",
        "- You __must__ use _list comprehension_ in your answer; you will lose points if you don't.\n",
        "-  You can assume valid input.\n",
        "\n",
        "Example input:\n",
        "```\n",
        "my_num_power = NumPower()\n",
        "print(my_num_power)\n",
        "```\n",
        "Example output:\n",
        "```\n",
        "3\n",
        "9\n",
        "27\n",
        "81\n",
        "243\n",
        "```\n",
        "\n",
        "Example input:\n",
        "```\n",
        "my_num_power = NumPower(2, 6)\n",
        "print(my_num_power)\n",
        "```\n",
        "Example output:\n",
        "```\n",
        "2\n",
        "4\n",
        "8\n",
        "16\n",
        "32\n",
        "64\n",
        "```"
      ]
    },
    {
      "cell_type": "code",
      "metadata": {
        "id": "TsojUjPC-wJ-"
      },
      "source": [
        "class NumPower:\n",
        "\n",
        "  def __init__(self, base=3, exponent=5):\n",
        "    self.base = base\n",
        "    self.exponent = exponent\n",
        "    self.__str__()\n",
        "        \n",
        "  def __str__(self):\n",
        "    strrep = \"\"\n",
        "    strrep = [(str(self.base**i) + \"\\n\") for i in range(self.exponent+1)]\n",
        "    return ''.join(strrep[1:])\n",
        "    \n",
        "    "
      ],
      "execution_count": 18,
      "outputs": []
    },
    {
      "cell_type": "code",
      "metadata": {
        "colab": {
          "base_uri": "https://localhost:8080/"
        },
        "id": "6OOAswXFqOEy",
        "outputId": "080adaf0-d00b-4b5f-e240-28e75e0bd736"
      },
      "source": [
        "my_num_power = NumPower()\n",
        "print(my_num_power)\n",
        "\n",
        "my_num_power = NumPower(2, 6)\n",
        "print(my_num_power)\n"
      ],
      "execution_count": 19,
      "outputs": [
        {
          "output_type": "stream",
          "name": "stdout",
          "text": [
            "3\n",
            "9\n",
            "27\n",
            "81\n",
            "243\n",
            "\n",
            "2\n",
            "4\n",
            "8\n",
            "16\n",
            "32\n",
            "64\n",
            "\n"
          ]
        }
      ]
    },
    {
      "cell_type": "markdown",
      "metadata": {
        "id": "aKZEplp6-Ogv"
      },
      "source": [
        "### 2.2 Plotting (15 points)\n",
        "\n",
        "We have provided you with some starter code that imports the needed packages and generates some data. You need to use the Python package `matplotlib` to plot a histogram (with 50 bins) as shown below. All aspects of the plot must be the same except for figure size or aspect ratio. \n",
        "\n",
        "![math_marks (1).png](data:image/png;base64,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)\n",
        "\n",
        "Run the first code cell, then implement the next cell marked by `TODO: ...`."
      ]
    },
    {
      "cell_type": "code",
      "metadata": {
        "id": "n2vKiGhfpeGH",
        "colab": {
          "base_uri": "https://localhost:8080/"
        },
        "outputId": "fbe54c8f-9438-4a16-9047-91c6bc29fb77"
      },
      "source": [
        "###########################\n",
        "# DO NOT MODIFY THIS CELL #\n",
        "###########################\n",
        "\n",
        "import numpy as np\n",
        "import matplotlib.pyplot as plt\n",
        "\n",
        "np.random.seed(42)\n",
        "mu, var = 70, 100\n",
        "x = mu + var**0.5 * np.random.randn(5000)\n",
        "x[x>=100] = 100\n",
        "\n",
        "print('Random data:', x)\n",
        "print('Mean:', x.mean(0), 'Std:', x.std(0))"
      ],
      "execution_count": 20,
      "outputs": [
        {
          "output_type": "stream",
          "name": "stdout",
          "text": [
            "Random data: [ 74.96714153  68.61735699  76.47688538 ... 100.          78.08036189\n",
            "  61.51934402]\n",
            "Mean: 70.05025221099895 Std: 9.944683142267468\n"
          ]
        }
      ]
    },
    {
      "cell_type": "code",
      "metadata": {
        "id": "eTALhKbwu5Cl",
        "colab": {
          "base_uri": "https://localhost:8080/",
          "height": 295
        },
        "outputId": "b910d104-f3b8-405d-a9c4-aec9afef19d2"
      },
      "source": [
        "plt.hist(x, density=True, bins=50, color='blue')\n",
        "plt.ylabel('Probability')\n",
        "plt.xlabel('Marks in math exam')\n",
        "plt.title('Distrubution of math exam marks')\n",
        "plt.ylim(0, 0.05)\n",
        "plt.xlim(0, 100)\n",
        "plt.grid()\n",
        "plt.show()"
      ],
      "execution_count": 21,
      "outputs": [
        {
          "output_type": "display_data",
          "data": {
            "image/png": "[encoded data removed]",
            "text/plain": [
              "<Figure size 432x288 with 1 Axes>"
            ]
          },
          "metadata": {
            "needs_background": "light"
          }
        }
      ]
    },
    {
      "cell_type": "markdown",
      "metadata": {
        "id": "9gtvQ3Hoi3CA"
      },
      "source": [
        "### 2.3 Numpy (15 points)\n",
        "\n",
        "Implement the multi-class k-nearest neighbors algorithm inside the function `knn()` using the `numpy` package. You must do so __without using _for/while loops_ or _list comprehension___. To help you, we provide pseudo-code at the bottom of the cell, but you don't have to follow it so long as you implement the K-NN algorithm (with [Euclidean distance](https://en.wikipedia.org/wiki/Euclidean_distance)).  \n",
        "- Here's a [quick-start tutorial](https://numpy.org/doc/stable/user/quickstart.html) from Numpy's official documentaion.\n",
        "- [Section of 3.2 CIML](http://ciml.info/dl/v0_99/ciml-v0_99-ch03.pdf) covers K-NN if you feel you need more information than what's given here.  \n",
        "\n",
        "`knn()` receives the following:\n",
        "- `X` (upper-case) is the input data; it is an $m{\\times}n$ matrix of real values; you may assume it's a `numpy` array.\n",
        "- `y` is the output data (a.k.a. ground-truth labels); length-$m$ vector of integers representing our classes; you may assume it's a `numpy` array.\n",
        "- `k` is the number of datapoints to base our prediction on; you may assume it's an odd number.\n",
        "- `x` (lower-case) is a single datapoint in $\\mathbb{R}^n$ which our function will be classifying; you may assume it's a `numpy` array.\n",
        "\n",
        "`knn()` returns the label predicted for `x`.  \n",
        "\n",
        "Pseudo-code for multi-class k-nearest neighbors: \n",
        "\n",
        ">1. Compute the Euclidean distance of each datapoint in `X` from `x`.\n",
        ">2. Obtain the indices that would sort `X` based on the distance of datapoints from `x`.\n",
        ">3. Sort `y` based on the distance of the corresponding datapoints from `x`.\n",
        ">4. Keep only the `k` labels in `y` corresponding to the `k` datapoints closest to `x`.\n",
        ">5. Return the most frequent label (you can use the `mode()` helper function here).\n",
        "\n",
        "__Remember:__ you __may NOT__ use _for/while loops_ or _list comprehension_; you will lose points if you do."
      ]
    },
    {
      "cell_type": "code",
      "metadata": {
        "id": "0Q2pGMW9nZr6",
        "colab": {
          "base_uri": "https://localhost:8080/"
        },
        "outputId": "10308d94-a245-48bb-c049-88b6e92c737b"
      },
      "source": [
        "import numpy as np\n",
        "import statistics\n",
        "\n",
        "# helper function for knn\n",
        "def mode(arr):  \n",
        "  \"\"\" \n",
        "  Returns the mode of an array of integers. \n",
        "  When there's a tie between one or more numbers, \n",
        "  it defaults to the smallest one.\n",
        "  \"\"\"\n",
        "  vals, cnts = np.unique(arr, return_counts=True)\n",
        "  return vals[cnts.argmax()]\n",
        "\n",
        "def knn(X, y, k, x):\n",
        "  # TODO: your code here\n",
        "  def dists_sq(pt):\n",
        "\n",
        "    def dsq(iter, classify):\n",
        "      diff = iter - classify\n",
        "      diff = diff * diff\n",
        "      return diff\n",
        "\n",
        "\n",
        "    diff = np.vectorize(dsq, otypes=[int])\n",
        "    return np.sqrt([np.sum(diff(pt, x))])\n",
        "\n",
        "  dist_func = np.vectorize(dists_sq, signature=\"(point)->(distances_squared)\")\n",
        "  ret = dist_func(X).ravel().reshape(len(X), 1)\n",
        "  y = y.reshape(len(X), 1)\\\n",
        "\n",
        "  arr = np.hstack((ret, y))\n",
        "  arr = arr[np.argsort(arr[:, 0])]\n",
        "  arr = arr[0:k]\n",
        "  classifiers_arr = arr[:, 1]\n",
        "\n",
        "  return mode(classifiers_arr.astype(int))\n",
        "\n",
        "# sanity check\n",
        "X = np.array([[0,0,0], [0,0,1], [1,1,1], [2, 2, 2]])\n",
        "y = np.array([0, 0, 1, 1])\n",
        "k = 3\n",
        "x = np.array([3, 3, 3])\n",
        "\n",
        "knn(X, y, k, x)  # should return 1"
      ],
      "execution_count": 1,
      "outputs": [
        {
          "output_type": "execute_result",
          "data": {
            "text/plain": [
              "1"
            ]
          },
          "metadata": {},
          "execution_count": 1
        }
      ]
    },
    {
      "cell_type": "markdown",
      "metadata": {
        "id": "MEgJ2LB7chYF"
      },
      "source": [
        "### 2.4 K-NN Question  (5 Points)\n",
        "K-NN predicts a class for $x$ according to the most prevalent label of the $k$ closest datapoints in its training set. Is K-NN an example of a model-based or instance-based learning algorithm (which of the two)? What's the difference between these two categories of learning algorithms?\n",
        "\n",
        "___YOUR ANSWER HERE.\n",
        "K-nearest neighbors is an example of an instanced based learning algorithm. An instance based learning algorithm learns from past examples and tries to solve new problems by examining and comparing similarities between the two. Model based algorithms operate by creating relationship models to form prediction(s). \n"
      ]
    },
    {
      "cell_type": "markdown",
      "metadata": {
        "id": "8lqTnIpPBuF7"
      },
      "source": [
        "## Problem 3 - Fitting to Nonlinear Data (40 points)\n",
        "\n",
        "We have provided you with a modified code example from the book. The example generates some random linear data by sampling some points around the line $y=\\frac{3}{2}x+\\frac{1}{2}$. It then fits a linear model to it and plots the result. Run the cell to generate the plot. The randomly generated data points are shown in blue and the fitted model is shown as a red line."
      ]
    },
    {
      "cell_type": "code",
      "metadata": {
        "id": "FbrllKdNNdqP",
        "colab": {
          "base_uri": "https://localhost:8080/",
          "height": 413
        },
        "outputId": "95844e80-9d7e-474e-b25d-d794932999c0"
      },
      "source": [
        "###########################\n",
        "# DO NOT MODIFY THIS CELL #\n",
        "###########################\n",
        "\n",
        "import numpy as np\n",
        "import matplotlib.pyplot as plt\n",
        "from sklearn.linear_model import LinearRegression\n",
        "\n",
        "RANDOM_SEED = 42  # MUST BE 42 (meaning of life) FOR TESTS TO PASS\n",
        "\n",
        "def add_noise(X, y):\n",
        "  # set seed to make output identical across runs\n",
        "  np.random.seed(RANDOM_SEED)  # CRUCIAL FOR TESTS TO PASS\n",
        "  return (X + np.random.normal(0, 0.3, len(X)).reshape(len(X), 1),\n",
        "          y + np.random.normal(0, 0.3, len(y)).reshape(len(y), 1))\n",
        "\n",
        "def generate_linear_data(start, end, size=300):\n",
        "  X = np.linspace(start, end, size).reshape(size, 1)\n",
        "  y = (3/2) * X + (1/2)\n",
        "  X, y = add_noise(X, y)\n",
        "  return X, y\n",
        "\n",
        "X, y = generate_linear_data(-5, 5)\n",
        "lin_reg = LinearRegression().fit(X, y)\n",
        "print('m ~ %.2f, b ~ %.2f' % (lin_reg.coef_, lin_reg.intercept_))\n",
        "\n",
        "X_new = np.linspace(-5, 5, 300).reshape(300, 1)\n",
        "y_new = lin_reg.predict(X_new)\n",
        "\n",
        "plt.figure(figsize=(8, 6))\n",
        "plt.plot(X, y, \"b.\")\n",
        "plt.plot(X_new, y_new, \"r-\", linewidth=2, label=\"Model\")\n",
        "plt.xlabel(\"$x$\", fontsize=18)\n",
        "plt.ylabel(\"$y$\", rotation=0, fontsize=18)\n",
        "plt.legend(loc=\"upper left\", fontsize=14)\n",
        "plt.grid()\n",
        "plt.axis([-5, 5, -5, 5])\n",
        "plt.show()"
      ],
      "execution_count": 24,
      "outputs": [
        {
          "output_type": "stream",
          "name": "stdout",
          "text": [
            "m ~ 1.47, b ~ 0.50\n"
          ]
        },
        {
          "output_type": "display_data",
          "data": {
            "image/png": "[encoded data removed]",
            "text/plain": [
              "<Figure size 576x432 with 1 Axes>"
            ]
          },
          "metadata": {
            "needs_background": "light"
          }
        }
      ]
    },
    {
      "cell_type": "markdown",
      "metadata": {
        "id": "6ks8NAcQnWw8"
      },
      "source": [
        "Let's fit a linear model again, this time with nonlinear data. The code below consists of functions that need to be implemented where appropriate (marked with `TODO: ...`). You need to do the following using appropriate Scikit-Learn classes/functions:\n",
        " 1. Modify the function `generate_nonlinear_data()` to generate nonlinear data around the curve $0.1x^4 - x^2 + 0.5x + 0.75$.\n",
        " 2. Implement `get_poly_features()`. This just returns an instance of Scikit-Learn’s `PolynomialFeatures` class (do **not** include a bias). \n",
        " 3. Implement `fit_transform()`. This receives data `X` and a `PolynomialFeatures` instance `poly_features`, fits and transforms the training data, and returns the result.\n",
        " 4. Lastly, implenet `fit_lin_model()` which takes training data `X` and `y`, fits Scikit-Learn's linear model to it (must use Scikit-Learn), and returns the model.\n",
        "\n",
        "__Hint:__ Look at chapter 4 in the book and [_Scikit-Learn's documentation_](https://scikit-learn.org/stable/modules/classes.html). Your functions should be very short.  "
      ]
    },
    {
      "cell_type": "code",
      "metadata": {
        "id": "MwLMt9RJnYqR"
      },
      "source": [
        "def generate_nonlinear_data(start, end, size=300):\n",
        "    X = np.linspace(start, end, size).reshape(size, 1)\n",
        "    \n",
        "    y = (.1)*(X**4)-(X**2)+(.5)*X +.75\n",
        "    \n",
        "    X, y = add_noise(X, y)\n",
        "    return X, y\n",
        "\n",
        "def get_poly_features():\n",
        "  from sklearn.preprocessing import PolynomialFeatures  # MUST USE THIS\n",
        "  trans = PolynomialFeatures(degree=4, include_bias=False)\n",
        "  return trans\n",
        "\n",
        "def fit_transform(X, poly_features):\n",
        "  X = poly_features.fit_transform(X)\n",
        "  return X\n",
        "\n",
        "def fit_lin_model(X, y):\n",
        "  from sklearn.linear_model import LinearRegression  # MUST USE THIS\n",
        "  lin_reg = LinearRegression().fit(X, y)\n",
        "  return lin_reg"
      ],
      "execution_count": 25,
      "outputs": []
    },
    {
      "cell_type": "markdown",
      "metadata": {
        "id": "8CxjRIH41Ydw"
      },
      "source": [
        "The script below utilizes your implementation and generates a corresponding plot. The resulting plot should look __exactly__ like the image below:\n",
        "\n",
        "![ps3_plot.png](data:image/png;base64,iVBORw0KGgoAAAANSUhEUgAAAfwAAAF/CAYAAACsdntlAAAABHNCSVQICAgIfAhkiAAAAAlwSFlzAAALEgAACxIB0t1+/AAAADh0RVh0U29mdHdhcmUAbWF0cGxvdGxpYiB2ZXJzaW9uMy4yLjIsIGh0dHA6Ly9tYXRwbG90bGliLm9yZy+WH4yJAAAgAElEQVR4nO3deZxT5dn/8c89CwOyuLAIouBSN1xQGZcRRVTEBRfcqrUVt4q0Wuvzc6u1LtUq2rrV2qrUpdKqrcujtoJa8BFRGUBQEBX3BdlEUWQRGIa5fn/cCZPJJDNJJslJcr7v1yuvk+Xk5E4mk+vc23U7M0NERERKW1nQBRAREZHcU8AXEREJAQV8ERGREFDAFxERCQEFfBERkRBQwBcREQmBvAZ859wDzrklzrm3Y+7bzDk3wTn3YWS7aZLnnhHZ50Pn3Bn5K7WIiEjxy3cN/2/AEXH3/Qp40cy2B16M3G7CObcZcA2wL7APcE2yEwMRERFpLq8B38wmA9/E3X0c8FDk+kPA8ARPPRyYYGbfmNm3wASanziIiIhIEoXQh7+5mS2KXF8MbJ5gn97AFzG350fuExERkRRUBF2AWGZmzrk25fp1zo0ERgJ07NhxwE477ZSVsmXNl1/C/PnQvTv06RN0aUREitaqVfD++2AGzsGOO0LHjq0/Z8UK6Nw5sm9DA7z5pj/Annv6bZYsXgwLFjTe7t0bevbM2uGTmjlz5tdm1j3+/kII+F8653qZ2SLnXC9gSYJ9FgCDY25vCUxKdDAzGwOMAaiurrYZM2Zkt7Rt9cILcMQRsPPO8PLLQZdGRKRojR4NV10F69dDWRmMGAFXXJF8/9paOPRQqKuDb76BF1+EmrWT4OCDYcAAeP31rJYv9vXatYPHH4eamqy+RELOuc8T3V8ITfr/BqKj7s8AnkmwzwvAUOfcppHBekMj9xWfXXbx23fe8aelIiKSkcGDfSAtL/fbwYNb3n/SJB9816/320mTgOnT/YN775318tXU+JOK66+PnFzkIdi3JK81fOfco/iaejfn3Hz8yPubgMecc+cAnwM/jOxbDYwys5+a2TfOueuB6OnXdWYWP/ivINXW+i/V4MGRP3bv3rDxxrB0qW/ez0f7johICYoG1Ca/sS2IniBEa9yDBwO3RcLKPvvkrIxBB/ooV8rL4wbdpB/fnLPhDG/gQJgyBSZO9DuIiEheNKuE9e0L8+b5Vtd+/QIuXXY452aaWXX8/YXQpF+yEjYfAey6q9++/XaSZ4qISC7U1Ph+/poafCvrvHnQqZMf8VfiFPBzKGn/Umw/voiIBKO21m/33tv/UJe4QhilH4iGhga+/vprli1bxvr163PyGpts4lvu16yB9u2hqgrmzgUOPBCeey7mjtJWXl7OJptsQrdu3Sgr0zmmiBSIKVP8duDAYMuRJ6EN+PPnz8c5x9Zbb01lZSUui3MvW7VuXeM8kp12yuq8z0JjZqxbt44vv/yS+fPn00e5B0SkUEQD/v77B1uOPAltdWvVqlX07t2bdu3a5TfYA1RW+ktDA6xdm9/XzjPnHO3ataN3796sWrUq6OKIiHhr10J0UPd++wVbljwJbcAHgm1e3mgjv129Orgy5JGa8kWkoLz5pg/6/frBpuFYi02/wkHp0MFvv/8+2HKIiIRRyJrzQQE/ONGAH5IavohIQVHAl3z5Ht+k37Cq8AL+119/jXOOSRsSB7Tu2muvZddofgERkUJmBq+95q8r4EsurVwJ733WngYcZevWsmp5etMCzzzzTJxznHPOOc0eu/zyy3HOcfTRR2eruCIipeXzz/1SdpttBjvsEHRp8kYBPwArVkCDOVbjm/XXfJt+P/5WW23FY4891mTke319PWPHjtXUNxGRlsQ255fwtOh4CvgB6NzZT8GPBvxOZek36+++++5sv/32PPbYYxvuGzduHO3bt2dwzJJRDQ0NXH/99Wy11VZUVVWx22678cwzTRckfP311xkwYADt27dnzz33ZNq0ac1e791332XYsGF07tyZHj168KMf/YjFixenXW4RkWyqrfXL5EaT5qUkhP33oIDflHN5uXTq7NhrgKPb3tvC3ntT1ZBZP/4555zDAw88sOH2Aw88wFlnndUkr8Af//hH/vCHP3DzzTczZ84cjj/+eE444QRmzZoFwMqVKxk2bBjbbrstM2bM4KabbuKSSy5p8jqLFi1i0KBB7LrrrkyfPp2JEyeycuVKjjvuOBoaGjIqu4hIW0UXKLvqKr9NOegr4EtgMpyad9pppzFjxgw+/PBDFi9ezPPPP8+ZZ57ZZJ9bbrmFSy65hNNOO40ddtiB6667jgMPPJBbbrkFgEceeYS6ujoefPBBdt11Vw4//HCuvPLKJse4++676d+/PzfffDM777wzu+++O2PHjmX69OkEuRqhiBSGjGrZWZB0gbKWrFwJs2f73PnVzRaUK2mhTa2bUL6XCq6vh1mz/NQ8s7T7kjbddFOOP/54HnjgATbZZBMGDx7cpP9++fLlLFy4kIFxeaIPOOAAxo8fD8DcuXPZfffd6dSp04bHa+IWb545cyaTJ09usk/Uxx9/zD45WkdaRApf0mXA8yDh+vYtlHPSJDi203R2aWiAAQOgY8f8FLRAKOAHqaLCp9hdt85nfGrfPu1DnH322Zxxxhl06tSJ6667LuXnpZNOuKGhgWHDhm1oFYi1+eabp3wcESk9iWrZ+Qr4NTX+BKPJ+vYJxJ6U1Lkp7AKha84HBfzgbbQRfPedr+VnEPAPPfRQ2rVrx9dff83w4cObPNalSxe22GILXnvtNQ499NAN97/66qv069cPgJ133pm//e1vrFq1io6Rs92pU6c2Oc5ee+3FY489Rt++famsrEy7jCJSutKpZedCTU3rJxixJyX78lrjE0NGffhBa2OKXeccb731Fp9++ilVVVXNHr/00ku55ZZbePTRR/nggw+4+uqreeWVVzYMzDvttNOoqKjg7LPP5p133mHChAnccMMNTY5x/vnn891333HKKacwbdo0PvnkEyZOnMjIkSNZsWJFRuUWkdIQrWVff31+m/PTET0paVdWz/7RgD9oUKBlCoJq+EHLQordzp07J33swgsvZMWKFVx22WV8+eWX7Ljjjjz55JP0798fgE6dOvHss8/ys5/9jL322ouddtqJm2++mWOPPXbDMaKtBFdccQVHHHEEa9asoU+fPgwdOjThSYaIhEsqtewgRU9K3vvHLLr8ZQVstx307h10sfLOWb4HquVRdXW1JRtFPnfuXHbeeec8lyiB1avhnXf86efuuwddmpwqmM9cRMLpttvg4ovhrLMgZkpzqXHOzTSzZlMQ1KQftPbt/ej8ujo/al9ERHLj5Zf99qCDgi1HQBTw82jlSli0yG83cE4r54mI5FpDA7zyir8ewv57UMDPm5Ur4YMPYMECv20S9DfyK+dlOnBPRERa8fbb8O23sNVWsPXWQZcmEAr4ebJihT/BBL9tMrhdAV9EJLcmT/bbQYNCtWBOrFAH/HwOWIwumAN+22RgfQgCfikPDhWRIhDy/nsI8bS8yspKVq9ezUbRYJtjnTr5ZZdXrPDBvkmW2tg+/IaGxjODErJ69Wol7RGRYJg11vBDHPBLL7KkqEePHixYsIDvv/8+b7XPTp2gV6+4YA9+EYcSHbhnZnz//fcsWLCAHj16BF0cEQmj99+HJUtg881h++2DLk1gQlvD79KlCwALFy5k3bp1AZcG+OYbWLXKz8lvIZFOMaqsrGTzzTff8JmLiORVbO0+pP33EOKADz7oF0wQuuMO+J//gXPPhTFjgi6NiEjpiPbfh3Q6XlRom/QLzoABfjtzZrDlEBEpJWYasBehgF8o9tjDb+fM8Vn3REQkodpaGD3ab1v16ac+Acpmm0FkldCwCnWTfkHp3NkP4//gA9+Pv+eeQZdIRKTgxK5t365dCiv0vfSS3w4aVJIzoNJREO/eObejc25WzGW5c+6iuH0GO+e+i9nn6qDKmzN77eW3b7wRbDlERApU7Nr2dXX+dotefNFvhwzJcckKX0EEfDN738z2MLM9gAHA98BTCXZ9JbqfmV2X31LmQTTgqx9fRCSh6Nr25eV+O3hwCzs3NMDEif66An5BNukfCnxsZp8HXZC8iw7cy3ENv7bWnxUPHlzYa1iLiMSLrm2f0m/Y22/DV19B796+yzTkCjHgnwo8muSxGufcbGAhcImZvRO/g3NuJDASoE+fPjkrZE5E++1nz/ZL5VZk/8+Tdv+XiEiBqalJ8XcrtnYf4vn3UQXRpB/lnGsHHAs8nuDhN4C+ZtYf+BPwdKJjmNkYM6s2s+ru3bvnrrC5sOmmsM02sGYNvPdeTl4i7f4vEZFipf77Jgoq4ANHAm+Y2ZfxD5jZcjNbGbk+Hqh0znXLdwFzLscD99Lq/xIRKVZ1dY3z7w89NNiyFIhCC/g/IklzvnOup3O+TcY5tw++7EvzWLb8iAT8Rc/OTH2eaRqi/V/XX6/mfBEpYdOm+XTl/fr5RUykcPrwnXMdgcOA82LuGwVgZvcAJwE/c87VA6uBU60U11yNDNz79MmZXPW/uelnT7n/S0SkWGl0fjMFE/DNbBXQNe6+e2Ku3wXcle9y5V2kht+/4U2gnrq6CiZNUoAWEUmL+u+bKbQmfenenTVbbENHvmfXsrnqZxcRSdfy5TB1qh+slGL+/LTS9RapgqnhS6P2B+4D//qUG4ZPZ7NLdlPtXkQkHZMn+6lI++8PKayIGpbpyqrhF6J99gFgWNdpJfmlExHJqWj/fYqj88MyXVkBvxBFAj7TpwdbDhGRYtTCgL1ETfdhma6sJv1CtOee/pv39tt+WknHjkGXSESkOHzxhV9xtFMn2G+/Jg8la7pPK11vEVMNvxB17Ai77urbl958M+jSiIgUj+ee89vDDvNRPUZLTfc1NXDFFaUb7EEBv3Dtu6/fqllfRCR148f77ZFHNnsoLE33ySjgFyr144uIpGft2sb59wkCftgzjaoPv1BFA/60acGWQ0SkWLz6KqxcCbvtBltumXCXMGcaVQ0/DzJK6NCvn+/L/+wzWLIkt68lIlIKov33CWr3ohp+zmWc0KG83OfVnzwZXn8dhg3L3WuJiJSCaP/9UUcFW44CpRp+jrUpoUOaA/fCkjxCRKSZzz6DuXN9Zr399w+6NAVJAT/H2jQqNM2Be2EfgSoiIRZtzh8yBCorgy1LgVKTfo61KaFDbMA3A+dy91oiIsUsGvDVnJ+UK8Ul5aOqq6ttxowZQRcjc2bQqxd8+SV8+CH84AdBl0hEJFC1tQkqNWvWQNeu8P33MH8+9O4dYAmD55ybaWbV8ferSb+QOafpeSIiEdGByVdd5bcbZiO98ooP9v37hz7Yt0QBv9BFB+5NnRpsOUREApZ0YPJ//uO3mo7XIgX8QjdwoN++9lqw5RARCVjCgclm8MwzfofjjguwdIVPg/YK3d57+2/37Nk+g1SnTkGXSEQkEAkHJs+aDfPmQc+ejV2gkpACfqHr2NEvlztjhu/HP/TQoEskIhKYZqlxo7X7Y46BMjVat0SfTjGINutPmRJsOURECk0OmvNLNUW5avjFYP/94Y9/VD++iEisefPgzTd9S2iWWj9LOUW5avjFIFrDr631w1NFRAT+/W+/PfxwaN8+K4cs5RTlCvh50qYmot69oW9fWL4c3n0362UTESlKOWjOL+UU5WrSz4OsNBHtvz98/rlv1t9tt5yUU0SkaCxb5qvf5eUprSaaqlJOUa4afh5kpYlI8/FFRBr95z9QXw8HHujT6mZRTQ1ccUVpBXtQDT8vok1E0Rp+Rk1E0eUeNVJfREIsmkv/vPFPsBnAyScHXKLiocVz8iThgg/pqK+HTTf1yXcWLfJJJkREQiTaPVq1djmLGnpQ5epwCxfq9zCOFs8JWJubiCoqYL/9/HU164tIkWrLAOZo9+iRDc/SnrV80fdABfs0KOAXEzXri0gRS7raXYqi3aMn8wQA648/KfuFLGEK+MVEA/dEpIi1dQBzTQ289J+VHF3xHADbXHxC1stYyhTwi8l++4Fz8MYbfu1nEZEiko057vt+PY7K+jW+AtS7d7aLWNIKJuA75z5zzs1xzs1yzjUbaee8O51zHznn3nLO7RVEOQPVpQvssQesWwdTpwZdGhGRtETnuF9/fRtS1j7+uN+epOb8dBXatLyDzezrJI8dCWwfuewL3B3ZhsvgwT539KRJcMghQZdGRCQtzVa7S8fy5TBunL9+4olZK1NYFEwNPwXHAWPNmwps4pzrFXSh8u6gg/z25ZdLdkUnEZGEnn4a1qyBQYNgq60yPkxYfzsLqYZvwH+dcwbca2Zj4h7vDXwRc3t+5L5FsTs550YCIwH69OmTu9IG5cADwTkaaqcy7JDVLF/XoeRWdBIRSeiRR/z2tNMyPkSmqc7bnEulABRSDf8AM9sL33R/vnNuUCYHMbMxZlZtZtXdu3fPbgkLwWabQf/+lK2rY6+6qSW5opOISDNffgkTJ/qcJG3ov89kpkBbpxMWioIJ+Ga2ILJdAjwF7BO3ywIgtg1ny8h94RNp1j+47OWSXNFJRKSZxx/3UfrII9uUOz+TmQKlsmRuQQR851xH51zn6HVgKPB23G7/BkZERuvvB3xnZosIo8g39ILdJrVttKuISLF4+GG/bUNzPmQ2U6BUlswtiFz6zrlt8bV68OMKHjGzG5xzowDM7B7nnAPuAo4AvgfOMrMWE+XnO5d+3vp4li6Fbt2gqsovEdm+fQ5fTEQkYJ98AtttBx07+qb9jh3zXoRi6sNPlku/IAbtmdknQP8E998Tc92A8/NZrnRkZc37VHXtCrvvDm+9BdOmNY7cFxEpRdHBesOHBxLsoY3TCQtEQTTpl4K89/FE25SKtTNJRCQVZvC3v/nrP/lJoEUpdgr4WZJOH09W5oBGa/UK+CJSyl59FT7+2KfRPeywoEtT1AqiSb8URAeCtNbHk7Wm/0GRWYtTp/pEFOrHF5FSFK3djxjha1SSMdXwsyiVNe+z1vTfrRvstpsP9tOnZ3gQEZECtmoVPPaYv37mmYEWpRQo4OdZVqd3qFlfRErZk0/CypWw//6www5Bl6boKeDnWVZWi4o6+GC/ffHFrJRNRKSgPPig36p2nxUFMQ8/V/I9Dz/vvv3WN+2Xl/u5+Z07B10iEZHsiM6979ABFi2CjTfO6DDFNH8+W5LNw1cNv5htuinsvTesWwcvvxx0aUREsuevf/Xbk05qU7AvhRz42aKAX+yi01QmTAi2HCIi2VJXBw884K+PGpXxYUolB362KOAXu6FD/VYBX0RKxdNPw5IlsOuubWqHL5Uc+NmiefjFbr/9oFMnmDsX5s+HLbcMukQiIs2k1Zd+771+O2oUOJfxa6aaHyUsFPCLXWWl/yY/+6yv5Z91VtAlEhFpIq2EY++/D//3f7DRRllJpVsKOfCzRU36pUDN+iJSwNLqSx8zxm9/9KOMB+tJYgr4pSAycG/dcxMZfUND6EeiikhhSbkv/fvvG+fen3denkoXHgr4pWDHHVnbY0sql33Fk1fP1vQTESkoKScc+/vffX6Rfff1U44lqxTwS4FzvLeVb9Y/pGGCpp+ISMFpda0RM7jzTn/9l7/MW7nCRAG/RHQ41jfrD2WCpp+ISPGZOBHefRe22MIn25GsU8AvETv87FAABle8wkvjV2tUqogUlz/+0W9//nM/+0iyTgG/VHTvDnvtRUX9WvZdPSno0oiIpO7DD2HcOKiqgpEjU35abS2MHp35mKW2Pr/YaB5+KTnqKHjjDRg/Ho48MujSiIik5o47/PbHP/aVlxSkNbc/B88vRqrhl5Jhw/x23Dg/AEZEpNAtWdKYN/9//iflp7U1T34Y8+wr4JeSvff2y+V++im8917CXcLWhCUiBe7OO2HNGjjmGJ87P0VtzZMfxjz7atIvJeXlcMQR8I9/8NlfxvPoFjs3yR8dxiYsESlgy5fDn//sr//qV2k9ta158sOYZ18Bv9QMGxYJ+OO4yl3cJLAnasIKw5dcRArUmDGwbBkceCDsv3/aT29rnvyw5dlXk36pOfxwGsrKGdjwCh3Xf9ekbyqMTVgiUqDWroXbb/fX06zdS2YU8EvNppuycrf9qaSew8uaJuFJOb2liEgO1dbCo4c9AAsXsmq73TSrKE8U8EtQl1OPAuDKPcc3C+ytprcUEcmh2lo4fPBaDnjlRgDO+fxqaqdmvua9pE4BvxRFpuf1/2IcNfusD7gwIiKNJk2CEXX3sRXzmc3uPF5/QiimxBUCBfwSU1sLo/+zK2u22MbPb506NegiiYhscHDNGq7A1+5/yzVUtCvTeKI80Sj9EtI47c7RkeFcyO3w9NMwcGDQRRMRAWC/OX8FFvJF1z3oedJwJp2hLsZ8UQ2/hMROu3vKhvs7n3pKWfdEpDCsWgU3+tr9Vvdfy1/uKVOwzyMF/BISO+3u9XYDWbdJN/j4Y7/kpIhI0G67DRYv9llBjz026NKETkEEfOfcVs65l5xz7zrn3nHO/TLBPoOdc98552ZFLlcHUdZCFjvtbsL/lVN5QuQf6umngy2YiMiXX8Lvf++v/+EP4DIbma/04JkrlD78euBiM3vDOdcZmOmcm2Bm8VXTV8zs6ADKVzSaZI76erhflOKpp+DKKwMtl4iE3HXXwcqVPmf+QQdldAilB2+bgqjhm9kiM3sjcn0FMBfoHWypSsCQIbDRRjBzJnzxRdClEZGwev99uPdeKCuDm27K+DBhXOEumwoi4Mdyzm0N7AlMS/BwjXNutnPuOefcLkmeP9I5N8M5N+Orr77KYUmLQIcOfjEdULO+iATn0kt9lD7nHOjXL+PDKD142xRUwHfOdQKeBC4ys+VxD78B9DWz/sCfgIQRzMzGmFm1mVV37949twUuBscf77dPPhlsOUQknMaNg//8Bzp3ht/+tslD6fbHKz142zgrkClbzrlK4FngBTO7LYX9PwOqzezrZPtUV1fbjBkzslfIAldbm2Cpx+XLoUcP3/61YAH06hVgCUUkVNas8Wvcf/wx3Hor/L//t+Eh9cfnjnNupplVx99fEDV855wD7gfmJgv2zrmekf1wzu2DL/vS/JWysEX/ea66ym83nDF36eKb9c1UyxeR/LrtNh/sd94ZfvGLJg+pPz7/CiLgAwOB04FDYqbdHeWcG+WcGxXZ5yTgbefcbOBO4FQrlOaJAtDiP88Pf+i3jz0WQMlEJJTmzYMbbvDX//QnqKxs8rD64/OvIKblmdmrQIuTMs3sLuCu/JSo+ET/eaLNY03+eY45Bqqq4NVXfbN+b02AEJEcMoNRo+D77+Hkk32zY5xof3yzbkiSdE9KmxVEwJe2a+mfh86d4aij/Hz8J5+ECy8MqJQiEgqPPALPPQebbAJ33pl0tyZ5QyLUt587hdKkL1nQ4lr3atYXkXz46iv4ZSRZ6q23Qs+eaT1dffu5o4BfYHKWNvLoo6F9e3jtNZg/P8sHFxGJuOgiWLrUV9PPOivtp6tvP3cU8AtI0pH22dCpkw/6AI8+msUDi4hEPPaYb87v0AHGjMkoX77m2ueOAn4ByaQpK60WgZ/8xG//8Y82lFJEpKnaWrjr8i+o/+l5/o7bboNtt834eC12T0rGNGivgLQ40j6BtAe3HHkkbLYZvPWWv+y+exZLLyJhVFsLQw5p4Nk1Z1DBMr4ZeDSbnXde0MWSBFTDLyDpNmWl3SLQrh2ccoq/rlq+iGTBpEnwi7W3cDAv8SU9+PtB92e89K3klgJ+gUmnKSujwS3RZv2HH/ZnCiIibXDMxpP5nf0agJFl99Ohb4+ASyTJKOAXsYwGt9TU+L61hQs130VE2mbRIna9/hQqWM8tZZfxLEdz0UU5mGUkWaGAX+TSHtziXGMt/+9/z1m5RKTE1dfDqafC4sXM3vQgfm030NCgufOFTAE/jKIB/4knYOXKYMsiJS1neSUkWGY+Y+fkySyiF0cu+yfrrIKyMs2dL2QK+GG0/fZwwAGwapUy70nO5DSvRBvoJCQL7rwT7r6b+ooqflj2BIusJ2VlMGRI692L+vyDo4AfVj/9qd/ed1+w5ZCSVYgpUgv1JKSojBu3YV37T3/zADOr9qe83K/Pde21rQd7ff7BUcAPq5NO8ovq1NbCO+8EXRopQYWYIrUQT0KKyrRpfmpvQwNcey3bX3NabqcSS1Yp4IdVx45w2mn++v33B1sWKUmFmCK1EE9CisacOT5516pVMGIEXH01kLupxGr6zz5nZkGXIWeqq6ttxowZQRejcM2YAXvvDV27woIFvk1OJIcKYZ3zQihD0fnoIzjwQFi8GIYPh8cfh4rMErWm8vlridy2cc7NNLPq+PuVWjfMBgyA/v1h9mx45pnGJXRFcqBQfsSjrxltTlYgacX77/s/3OLFcMghfvGtDIM9+M87k6Z//Z3aTk36JSjlpjDnGgfv3XNPzssl4Rb7I752rR/gFURz7ZgxcNBB8JvfpDZwLNRNy3PmwKBBvgXwwAPh6af9Mts5pq6X3FCTfolJuxa1bBlsuaXvl3vnHejXL29llXCJfjfXrvVjvsrKfC9Srmv6sU3I4ONXfb2/XlYGv/ud74NuqcxBt0oEYupUGDYMvvkGDjvMB/uNNsrby6vrJXPJmvRTquE75+5xzplzbosEj+3onKtzzt2ZjYJK26Q9CnaTTeD00/31P/85x6WTfCqUmmm0HOAD5pAhPtA2NMCaNTB2bG5fO3Ya2Nix/nWjystbrj2GdlT5k0/CwQf7YH/00fDvf7c52Kf7fdQSuTlgZq1egDMAA4YneGw88DWwaSrHyudlwIABFjZTpph16GBWXu63U6ak8KQ5c8zArGNHs2XLcl5Gyb1UvwdTppjdeGOK35MslWPKFLN27fxXDsyqqtr2+i29h1GjzJzzr1Ne7m936GBWVmZWUWF2773pl7+kNTSY/f73jR/aueea1dW1+bCh+xwDBsywRLE80Z3NdoIdIwH/xrj7h0Xu/3kqx8n3JYwB3yzDH/HBg/3X4c47c1YuyZ8bb/Q/rtFAd+ONzffJx49wbDmc8wHXrHkgTlS+VLT0HqZM8UE9/sQi3f+PXJ8UFcpr2r1zVxUAACAASURBVHffmZ18cuMHdtNN/gQgC+K/j6NGBfD+QqStAd8BS4GJMfdVAu8Dc4DyVI6T70tYA35GHn/cfx123DHpP3kgP0KSkvi/TSrBPJWTgkxfP/b+RLX5aPnKyswqK1uvaSeT7ITCzF+Pvi6YDR/eclkLRSC14bfeMtthB/9Bde5s9sQTWT187HuqqvLfCdX2c6dNAd8/n3HAMhoH+l0Sqd0fmuox8n1RwE9DXZ2t6d7bDOyd255v9rCa5ApXsr9Na4Etnb9pohOK6O34H/NRo5oeK7Y2X1bWeGJx772+Bl5Wlvl3qqXugfiAHy1XoX+Ps3kiFq/Zd6K+3jfhRz/EXXc1e//97L1ggtceNSp370+8ZAE/nWl5U4GNgR2dcz2Aq4CnzezFdMcNSOGpnVHJDd+eD8CiS25pNrAmtIOXikCyv01rg55SzYQXP/BtzJjmA+Fip9vde2/T6W577ulDLvgBc127+utLl/r7W1pSNdlAr9iBgGef7WeYgh99Hz3Onns2fc6ee7b+Pc50oGM2B0jmakpa/N/xzUff8we/7DL/YZx7rh+Zv8MO2XnBONHv44gRmnIXmERnAYkuwBB8jX4EcB+wBtg21ecHcSmFGn4umh8THfPGG826ln1jK+hoBnb/BW80e06h14zCKtd/m/ga59ChjbfLysz22cfXrKO1+PiaW6Kadirlvvde39zvXNNm/+j90ZaBe+9NfJwbb/T7xLYstNbnn8nnmIvPPxf/99G/Y0dW2M3ucqsvr/QfTq9eZuPGZe+FUlDo3SrFjiw06XcB1gOTI9ubUn1uUJdiD/i5+iFJ1vzboYPZHe4iM7AlQ09L+Fz9kxam+Cb2VP9OqTwv/jsTDbCxwbRdO99HnqhvdvjwxAE//vXjXzN2wB00jqqPvT82kMcfJ92ujkwHluWyCT6baifX2fmV99p8tjADa3DOj8JfujTookmWtTng+2MwJ1LLXwR0Tue5QVyKPeDn4oekpWNOmWJ216Wf2fqycltfVm4znvys7S8oeZVuv3yqA6kS9eEPHdoY9KPfpUT7VVU1DdqpnIjE1s5jg3vsa4Kv6acz9qAlmQ4sa0vLQF5OoNeuNXvwQbPtttvwwa3Yqdps2rQcv3DuqRKSWLKAn25C5OnArsAVZraibZ0J0ppoX140y1c2+rpaOqbvw+3LY7edwqnrH2HKD++g7pXblfiiiKSTgzx232gyGrPEz4vPf15T41PjvvJK0+9SfJ76SZMas9pFMzmnuqpaVZVPzGPmn1tVBSee6F9z7VqfvOeuu1o+Xip522P3ffFFX+Z58+Cvf23e1x+bsS82C1z0ealmhctLBr8lS+DBB+HOO2HhQn/fjjvC9dfT6cQT/QeYoFzpZrcLKiNeqLMgZijlgO+cqwQGAzOAh3JVIGmUyQ9JW485aRI8YZdyKo9w1vq/ct+4K6mp6db2F5a8iD2hq6jwgau2NvF3J35fMx/gUj25jH6XYjPlxf8I33FH0xPMESNSex+x39OuXf0Av+j3dbfdMv+faC04RU8QamvhoYcay921a+P7Ki/3JyD19U0DTUtliX/dnC0OU1cH48fD3/4G48Y1nm3tuitccgn8+MdJF77JJIAGGXS1wE760qnhXwJsA/w40mQgeZBODSUbxxw8GK6v2oPnVx/BETzPyfNuBUZntwCSM7FB+IEHfC31oYcS/xDHn/xBZoE0GhgfegjOOKPpj/DSpWmctNbVwaJFMH8+LF5MzbJl1FR+C/OWwbffwp+/g9vWUlNXR01dHby4zj8HfBCrrPSXigqWLq9k0bdVdNumCz136AJduvDp0i7c/6cufLu+M5MrNuam+7vTf0h36NatWRCM/2zSaQ2JlygoZrX17ptv4Pnn4dln/fbbb/395eU+Le4FF8DQoY1TGZLIJIAGGXRz0QJa6loM+M65zYDDgd2BS4HbzGxqLgrinDsC+CNQDtxnZjfFPV4FjAUG4JMAnWJmn+WiLGEW/aH7YOw1cM/z9H7qLlh6SeNcKil40Rrk+vWt/xAnaqpPRbTGOm9e0x98aP4j3OQ1li/3y62+917j5fPP/WpsX37ZOH+vjbpGLsxqvG8b/PQiAOqA02OesNlm0L27v/ToAd27U9OjBzU9esC87nTp3IMnKnqwwHrwXflmWFn5hhp+a4EmUVC84or0Wu82tBAMaqCm12cwbRpMmeIvs2f7g0ftsgucdZavzffs2con1SiTABpk0M1FC2ipa3G1POfcj4BHgCX4YPsrM1uf9AmZFsK5cuAD4DBgPvA68CMzezdmn58Du5vZKOfcqcDxZnZKS8cN42p5LUm7r+2II+CFF+DXv4Ybbshx6SQVtbWNTegjRrQ+dz4XTa2xx07UvA3+ezak/1fszeswYwa8/jq8+aYP7MmUlUGvXn71xl69YNNN/eJO0e3GG/ulWdu185dojT5agHXroL6eJ/5Vz+OPrKNdwxo2dis4cehyDt5rOYs/WM6LTy+n0/rlbFb2LQP6fs1GK5Y0JgRIkZWVsW7jbixr14Oq3t3ZePse/iQh9tK9O3TqBJ06MWNuR446uSPf1nWksqos8d/CzA9MWLHCnxQtW7ahtWP+tAW8+vdP2GH9XHbiPTZiddPnVlTAQQf52vywYbD99im/l3iJfiNa+93QqnaFJ9lqeQWxPK5zrga41swOj9y+AsDMRsfs80Jkn1rnXAWwGOjeUveCAn6jjAJAbS3sv7//4frsM9XysyzdH8raWr9vtCZdVQUvvdT0ufFLwebih3r0aJ+8Zf16H/DPPRf6bGUc8YOP2HPZS75QtbW+5h6vqsoPHNtpJ3/ZcUfYbjsf5DffPGn/cjoSjSOIjgGABO95/XrfLL5kCXz1VeMlenvJkqaXb77JuGwN7dpT1i7yHmN/uurq/AlLClZ07kXngwb4/82aGth7b+jYMeMytfQ90MC44pQs4Lf9vys7egNfxNyeD+ybbB8zq3fOfYdvtfs6LyUschn1tdXU+L6///4Xbr0VbrwxDyUNh0x+SCdNahoT4v+OsevNl5X51Y5zsc57tBm3y5olHGXP8T+zXmSHZ1/yfe+xOnaEvfbyAam62l+23dafJWQg1ROU+AF/F13U9H02+0zKyxub8+Nf6yfNT6gmv7iOQ/t/TXWfxhOCT6cvYdGsJWzXZQmbE7l/5UpYtarJpaxuje9OSKSy0rdidPFjDujZE3r35gvrzY1/78Oc9f34uN3O/O8Lm+SktSbR90AD40pMorl6+b4AJ+H77aO3TwfuitvnbWDLmNsfA90SHGskfibBjD59+rRpLmMpyTiJz5Qpfu5uhw5mCxbktIylLnbOcCY5FlrKG2/WfO56NHlM1hbOaWgwe/tts9GjbdG2NbaemNR6YNa1q9lJJ5n9+c9+yeX6+pQ/m1Teeybf30w/55aSU6V6f/SxDfPE1683W7nSbPlymzphuXVvv9y6lK2wbu1XWO1Lq5uVIdnaBZlKlmGzpc9HGTaLE9lIvJOrC1ADvBBz+wr8XP/YfV4AaiLXK/A1e9fScYs98U62Zfyjcfzx/qty7rk5KVcYJMtWl0myllGjEgfyRNnpnEueSCel129oMJs1y+zyy8223bbJwdfQzsZxpF3k7rC//mK2D2g5kmkSqkwW6En2Wune39Jn3FoCrHxn2GzptZTcpvgUesCvAD7BD6RtB8wGdonb53zgnsj1U4HHWjuuAn6WvPee/0UoKzN7992gS1OUEv3A5+KHNDb/fKK89rFafP2PPjK7/nqzfv2ankF062Z25pn23o1PWrf2K/JW88skCEafk+4SvK0Fx/jjJds/06CeyslNut+d1sqSze+hThCCV9AB35ePo/Aj9T8Grozcdx1wbOR6e+Bx4CN8xr9WF+5RwM+i887zX5fjjgu6JEUp1YCVrabbUaMyWHN8xQqz++83q6lpGuS7dvUHfPnlJs30+f5hz2aQy/S1krUYRPe/997Eywankq449v7oiUV0/YBEj2dy8hPbwpSLIJ9py5VkV8EH/FxcFPCzaOFCs4028l+Zl18OujRFqbWAlc2m3Jaa/ptoaDCbPt1s5EizTp0ag3zHjmY/+YlfRa2uLvOCBCgXTePp1tpb+pu39Fj8ioDpdAe09nrZDsqx7zta5kJfSKjUJQv4hTJKXwpdr15+3exrr/WZu954IytTqMKktayJY8c25o5vy4jo+JHXCdPZrl4NDz/sk9HPnt14/8CBPuH9ySe3aapXIWhLYpZkMwJaSjSTLMFOsimRLY2OX7rUZ/RraGj+XUhWhtaOGf3+jR7dvJzR8mcylz72fZv5GSLOKftdIdIvtqTusst8ju45c/j00r/wzx4XKtlGltTW+lS4FjM1O9O0By1OpVqwAP7yF7j3Xh9Voi90xhk+0O+8cxveReHJJDV1S4GzpZOIdLLOtTbdrbVFru64A5580i8mFLtgUSpT6OKPHbtOQCZz7eOPF5v3QL8NBSZRtb9ULmrSz4GnnzYDW0YX61W2WP10WRLbTBu9pPLZJmrCTdiUPXWqfXXYj6y+rHEY/4qdqu2Zk/9utZPW5PS9FZtc9P0n2i/T0fGpDCqM9v23NBZh6NDGvvy2LsOtgXqFBfXhS1Y0NNhHOxxpBvYgZySdu6t//vREf6xTGV0f/5yk879vaLB3bx1vdsABGw66jnJ7ovxke/qy16xD+wYNrkogXwMsY4NuOloK0Jdd5gO+cz5PQ6KBm5lOEdX/dfFQwJeseeOxD20N7czAjmw3sfXapaQkOtCuqiq1zy/2h7+szAePKVPMj6T/17/M9thjQ6D/vv0m9nt3mW3F51Ze7vdta62ulOV6gGVbnt9SDT82D4NzjSeQLeUNiA7uTDbAM+NZHxKYZAFfffiStj1P/gHzzr2KPn+9iv/tdi7td3sL6AQoFWdbRPubR4xIbQBVtO907Vo/uOvlCXWMfenv7NHzZjp88aHfqWdPuPhi3trjPK45tvOGftYTT4RXXmlMw6tlEppqre8/2fc81YVm4lcZTOf/JNGyxqNH+2NGl+4F/3ctL/evETsOILbPvazML6Fs5pc5iB/gGR3PEB1MCvq/LmqJzgJK5aIafg7V1TXWIH/xiw13q4af36bPKVPMhg1ZYxe4P9k8tmys3m2zjdndd5utXt1k39hyZZKFTrxk/eWtzbuPPp6sub0t5YidFtdaH3601h47bqSsrHlLT/zYkmSZG+OPrab/YKEmfcm6N99sbEOcPHnD3WH+h8/rCU9dndl999mazfts+EV+2+1iH1zzD7N161p9ejYGa4VZ/Fz52ACa6PNM1JTe1v+T+PUTyspSyL2Q5LkVFa2fpLR27Ey//2H+zciFZAFfTfqSuT32gF/9Cn73O98WOGsWbLxxRlOhSkWqXRptWkN8/Xr45z99ToSPPqIK+H7bXXmu5jq2+Nlx1AwsS+kw6Uwjk+bi58pDy59n/Oc9YkTb/08GD/Zz3qOiTfotdS9E7+/a1Tfjr13rm/7vuqt5edLNZZBJl56W4M2jRGcBpXJRDT8P1qwx22svX0U45RSfuS3EUp1ulVErQEOD2ZNPmu2yS2O1bPvtzR55JOOV6VSzyly6mfWiz8n25z1oUOPXAcyGD2996l4uU+ym+91WS1P2oRq+xGtTLTOqqgoefdSve/6vf8Fhh8E552SxlMUllRpR2rUgM3j+efjNb3yGQ4C+feGaa+D009uU8TDMrTFtlexv3dLnmYvPu18/mDy58XbPnsm/Y/H3L13qswFmS6otArG/PWppyqNEZwGlclENP7ms9zU/9JBFs8W8+Y+3i6rWmO9ablqf/UsvmQ0c2Fh969XLrze/RslyxJsyxQ8AdM5voy0NmS6Hm4/yptsyIulBNXyJlfXpcyNGwMSJ8Pe/0+n04dzqpnN91aYF3x8XRP9hKrWgOX+dSqebf8M2H7/o7+jWzY+X+NnPYKONcltAKSrRmnv89ylZ60Om6wtkSzprDkh2KeCHVE6a0e6+m8UT5/CDRbN4xE7hmLXjmTSpoqD/kXOdNyBZt0nSpt1Zs/jmgqvY7bVnAVjGxiw/9xL63PpL6Nw5ewWTkpLo+5TsOxZ0N46a8IOjgB9SqZzpp9rH37hfR9r9+RnKTqhmKBP4g7uMvQfflpPyZ0suf3zSaj2YO9f3yT/+OJsBK+nIH/klt5ddwsXbbMoVivVSIgqhlSGsFPBDrKUz/VSCVW2tX9L1gQcas3m9+GIflvzlSbpecAgXrr8dpveFml/m/s1kKJc/Pim1HnzyiZ9e9/DDfk5VVRULjz+fmqcvZ8G6HqoBSUkKupUhrBTwJaHWglVLKTevuOJA2Og+OPNMuOgi3//84x/n/02kKFc/Pi22Hsyb5/MXPPgg1Nf7kfbnnQdXXskWvXvzz2zMoBARiaGALwm11tQdPSGIBnvn4vY74wz46iu49FIf+DfdFI46Kl/FLwiJcp7/6VcLOPnDG+n5n7/CunU+mfmZZ8LVV8M22zR5rgK9iGSTAr4klGyBjmiNM/aEoKICzjorQeawSy6BJUvgD3+A44+HJ56AY47J+3sJUvTzePqexWz58E2cu/4e2rMWcw532mm+336HHYItpIiEgrNoFa0EVVdX24wZM4IuRtFL1p+f0qA+M7jwQp+3s6ICHnkETj45j6UP1thbv2LJpX/g53YXG7EagMc4mfd+eA1X/2uXgEsnIqXIOTfTzKrj71cNX1qVrD8/pWZn5+DOO6FDB1/TP/VU+OYb319dyhYvZsElt3PCw3+mE6sAeIrhXMu1vEV/Kp+CRT/LTj51EZFUpLbKhoRatPm+vDzDqWvOwc03+9HoDQ0wapQfzLd+ffYLm0W1tb4bo7Y2jSd98olPjrP11vR++Pd0YhXPMowBzOBE9xRzXH/Ad9/fe69vOUnr+CIiGVLAl1ZF+/Ovv74Nmeicg2uu4aMrH2R9eSX88Y++P3/p0qyXNxui3RhXXZViUH77bfjJT3x//D33wNq1LB18AgdWTee4smeZUzmASy+F9u0bVzcza2wxERHJNTXpS0qyMWq8thYOve1M9rVteYLj6frcc9C/P/zjHwU12by21jdGrF3buPRpNCg3GbPQ0AATJsCf/gTjxvkdKir8DIXLL6frzjvz+7hxDsOH+9wF0dl4mmcvIvmigC9NZGUFvSSiYwEmNQxi77I3mLzlaWw5bwoccogf0X/NNdCxY3ZfNIGW3mO0Zh8N9mVlPigvWwaDBvn7urZbwbSfP0TPJ/5Eh3kf+Ce2bw8//al/H337bjhe/IlS9PaIEZpnLyJ5lmhFnVK5aLW89EyZYlZV5VfdqqrK/spVzVbJmrzO7OqrraGszAxsdc++Zs88k90Xba0Mce8xdm3usjKzoUP9muGVlWb9edPu5AL7js4bVq+bx5Z2dcUNNn3ckpyWO9H70OpiIpIISVbLUx++bDB2rK/Zmvnt2LHZPX6zsQAHVlB7xG8ZXDmFN9mD9os/h+OO8zX+117L7otHJJpxECt2gGJVFdxw4Zds+8xtvL6uP7PYk19wF11YwQe9BvHDssfZhk+5wX7NxNndc1LeRNIeXyAigpr0Jc/im7gnTYLX6vdlb17nQncXN1ZdS/uXXoIDDoDDDoNf/hKOOMJH4CwYPNgfqqHBb+P7z2tqYPJji/nqvmeoWfS/bHLcixtmEyxlM/5Zdho9f30OWxy1B88eCgSw4leuV/gTkdKkgC9AYy2xosIHkspK38+ca40Z+yq4p91FnPrUGezz2u1wxx1+QNyECbD11j797Iknwi67NA5zz9CG9vhozql162DaNN/sMGEC1VOmbHiwobyCj3Y+ls8GncGs3sM4cEhVi+uN54OWFxWRTCjTnjTJpJc0TW6OX79Z4Fy61C/Dd/fd8OmnG/ZdvdX2zO11KJ2PPIDtT9/P558vS71n6vzz6nlhzGfsxRsMYCbH9Z7JTt9Ng5UrG3eqqoLDDuOj3U/g4NuOYWFdN8rLfbLAkSOz8pbbLJeDK0WkuCnTniQV20QM0KdP9oJIxoGpa1e/8M7FF/ta/hNPsO6Jp+nwxYfs9cWHMP0e+C1+dPz22/uR8d26wWab+WpvWZl/Q8uXw3ffwaJF8Omn3Pn5F5QTk/BnQWS7887+rCd66dyZx0fDwjrf/N/QAOefD7vtVhgBVovriEi6FPAlZ03EyXLwp7VPWRkcfjgcfji39r2b8ddMo6bhVQ7kVQ7qPJPOKxbBnDn+koJyYD69mU1/ZpUN4MQbB7DT6XvDFls02ze2vx/8Vv3lIlKsAg/4zrk/AMcAdcDHwFlmtizBfp8BK4D1QH2i5grJTPzKeNkKaKkMLkt1AFptLXy+oILplQOZUj+QP7W7nBdfgJpdlsP778OiRXw07WvmvbGU7baup++WDb6vf+ONoUsX6NHDN//37csXb1Tx1iQ4ZDDs1MJ7ranxzfjnn++DfVWV+stFpHgF3ofvnBsK/J+Z1TvnbgYws8sT7PcZUG1mX6d6bPXhByvVGv7BBzfu89JLTfeprfXTAx94wJ8UlJfD2Wc3H2OQymu15X1MmuR7GZYuVb+5iBS2gu3DN7P/xtycCpwUVFkku1JtOYiec8afe0aD+Jo1TR+LH2MQnwp37Vp/+9pr/ePRfAKZDkSMPidXJxQiIvkQeMCPczbwrySPGfBf55wB95rZmEQ7OedGAiMB+vTpk5NCSupaG1w2aZKvuZv5bWyTfrS5PzbYx48xiE+F65zfTpzon2/mZ92Bz18f34KQKs19F5Fil5dMe865ic65txNcjovZ50qgHng4yWEOMLO9gCOB851zgxLtZGZjzKzazKq7d89f9jPJTPzSu127Ni5JGx00F1Ve7qfnxyfuqatrzHu/3XZ+29DgA3002EPbVqZr8xLBIiIBy0sN38yGtPS4c+5M4GjgUEsyqMDMFkS2S5xzTwH7AJOzXFTJs9hm/65d4aKLmjabn322Xzc++q2IX003fobBpZc2HqO8vGkNv7VA3dIUwlwNbBQRyZfAm/Sdc0cAlwEHmdn3SfbpCJSZ2YrI9aHAdXkspuRQtNl/9OjmzeYjRsBDDyWeMhgN0Hfc0XQw3W67NQZmSK0PP5VBf5r7LiLFLPCAD9wFVAETnE+ZOtXMRjnntgDuM7OjgM2BpyKPVwCPmNnzQRVYWpZpsp1obX3tWt8X37Vr8pp1SwE60ZK0rRk7tnFwYKI+emW2E5FiF3jAN7MfJLl/IXBU5PonQP98lksy05bpcTU1vrZ+wQW+ln/RRY2Z7TKdv99SOWNbAR58sLHbIH5RnVxO+RMRyRctjytZ1drys61ZurQxlW1Lz29tEF1tbePgv3jxy8uOHQv19f4x5/y4gUQDAzN9TyIihSDwGr6Ulram6W3p+fHN6skG0bVWI48P4ND0NeNXCdTqdCJSChTwJavaOpo90fPjs+3FBvHo46NHNwbi2CQ8iZr74wP4iBH+ohH6IlLKAk+tm0tKrZs/uRrUlijbXlkZ/O53cMUVTWvz5eW+SX7dusZ5+VVVyVP6KoCLSCkq2NS6UvxyOagtUba9hgY/gj/28fXrG1e1M/PBfsgQX9tPVBZNsRORsNGgPWmzXA5qiza/+xmZXllZYwKe2MF7lZWN16uqkgd7EZEwUg1f2iyXg9qi/efxffjR14jvXwc11YuIJKI+fMmKfPSJq99dRKR1yfrwFfBFRERKSLKArz58kTgtJe0RESlW6sMXiaE0uiJSqlTDF4mhNLoiUqoU8EVitJajX0SkWKlJXySG0uiKSKlSwBeJoyx8IlKK1KQvIiISAgr4IiIiIaCALyIiEgIK+CIiIiGggC8iIhICCvgiIiIhoIAvIiISAgr4IiIiIaCALyIiEgIK+CIiIiGggC8iIhICCvgiIiIhoIAvIiISAgr4IiIiIaCALyIiEgIK+CIiIiGggC8iIhICgQd859y1zrkFzrlZkctRSfY7wjn3vnPuI+fcr/JdThERkWJWEXQBIm43s1uSPeicKwf+DBwGzAded87928zezVcBRUREilngNfwU7QN8ZGafmFkd8E/guIDLJCIiUjQKJeBf4Jx7yzn3gHNu0wSP9wa+iLk9P3JfM865kc65Gc65GV999VUuyioiIlJ08hLwnXMTnXNvJ7gcB9wNbAfsASwCbm3La5nZGDOrNrPq7t27Z6H0IiIixS8vffhmNiSV/ZxzfwWeTfDQAmCrmNtbRu4TERGRFATepO+c6xVz83jg7QS7vQ5s75zbxjnXDjgV+Hc+yiciIlIKCmGU/u+dc3sABnwGnAfgnNsCuM/MjjKzeufcBcALQDnwgJm9E1SBRUREik3gAd/MTk9y/0LgqJjb44Hx+SqXiIhIKQm8SV9ERERyTwFfREQkBBTwRUREQkABX0REJAQU8EVEREJAAV9ERCQEFPBFRERCQAFfREQkBBTwRUREQkABX0REJAQU8EVEREJAAV9ERCQEFPBFRERCQAFfREQkBBTwRUREQkABX0REJAQU8EVEREJAAV9ERCQEFPBFRERCQAFfREQkBBTwRUREQkABX0REJAQU8EVEREJAAV9ERCQEFPBFRERCQAFfREQkBBTwRUREQkABX0REJAQU8EVEREJAAV9ERCQEFPBFRERCQAFfREQkBCqCLoBz7l/AjpGbmwDLzGyPBPt9BqwA1gP1Zladt0KKiIgUucADvpmdEr3unLsV+K6F3Q82s69zXyoREZHSEnjAj3LOOeCHwCFBl0VERKTUFFIf/oHAl2b2YZLHDfivc26mc25ksoM450Y652Y452Z89dVXOSmoiIhIsclLDd85NxHomeChK83smcj1HwGPtnCYA8xsgXOuBzDBOfeemU2O38nMxgBjAKqrq62NRRcRESkJeQn4ZjakpcedcxXACcCAFo6xILJd4px7CtgHaBbwRUREpLlCadIfArxnZvMTPeic6+ic6xy9DgwFMA01MQAABltJREFU3s5j+URERIpaoQT8U4lrznfObeGcGx+5uTnwqnNuNjAdGGdmz+e5jCIiIkWrIEbpm9mZCe5bCBwVuf4J0D/PxRIRESkZhVLDFxERkRxSwBcREQkBBXwREZEQUMAXEREJAQV8ERGREFDAFxERCQEFfBERkRBQwBcREQkBBXwREZEQUMAXEREJAQV8ERGREFDAFxERCQEFfBERkRBQwBcREQkBBXwREZEQUMAXEREJAQV8ERGREFDAFxERCQEFfBERkRBQwBcREQkBBXwREZEQUMAXEREJAQV8ERGREFDAFxERCQEFfBERkRBQwBcREQkBBXwREZEQUMAXEREJAQV8ERGREFDAFxERCQEFfBERkRDIW8B3zp3snHvHOdfgnKuOe+wK59xHzrn3nXOHJ3n+Ns65aZH9/uWca5efkouIiBS/fNbw3wZOACbH3umc6wecCuwCHAH8xTlXnuD5NwO3m9kPgG+Bc3JbXBERkdKRt4BvZnPN7P0EDx0H/NPM1prZp8BHwD6xOzjnHHAI8ETkroeA4bksr4iISCkphD783sAXMbfnR+6L1RVYZmb1LewjIiIiSVRk82DOuYlAzwQPXWlmz2TztVoow0hgZOTmSudcolaFQtYN+DroQpQ4fcb5oc859/QZ514xfsZ9E92Z1YBvZkMyeNoCYKuY21tG7ou1FNjEOVcRqeUn2idahjHAmAzKURCcczPMrLr1PSVT+ozzQ59z7ukzzr1S+owLoUn/38Cpzrkq59w2wPbA9NgdzMyAl4CTInedAeSlxUBERKQU5HNa3vHOuflADTDOOfcCgJm9AzwGvAs8D5xvZusjzxnvnNsicojLgf/nnPsI36d/f77KLiIiUuycrzxLoXDOjYx0S0iO6DPOD33OuafPOPdK6TNWwBcREQmBQujDFxERkRxTwC9gzrmLnXPmnOsWdFlKjXPuD86595xzbznnnnLObRJ0mUqFc+6ISJrsj5xzvwq6PKXGObeVc+4l59y7kXTlvwy6TKXKOVfunHvTOfds0GXJBgX8AuWc2woYCswLuiwlagKwq5ntDnwAXBFweUpCJC32n4EjgX7AjyLpsyV76oGLzawfsB9wvj7jnPklMDfoQmSLAn7huh24DNAgixwws//GZG6cis/tIG23D/CRmX1iZnXAP/HpsyVLzGyRmb0Rub4CH5CUeTTLnHNbAsOA+4IuS7Yo4Bcg59xxwAIzmx10WULibOC5oAtRIlJJlS1Z4pzbGtgTmBZsSUrSHfhKV0PQBcmWrGbak9S1lIYY+DW+OV/aIJVUz865K/FNpA/ns2wibeWc6wQ8CVxkZsuDLk8pcc4dDSwxs5nOucFBlydbFPADkiwNsXNuN2AbYLZfJJAtgTecc/uY2eI8FrHotZbq2Tl3JnA0cKhpfmq2pJIqW9rIOVeJD/YPm9n/Bl2eEjQQONY5dxTQHujinPuHmf0k4HK1iebhFzjn3GdAtZkV2+INBc05dwRwG3CQmX0VdHlKhXOuAj8I8lB8oH8dOC2SUVOyILJc+EPAN2Z2UdDlKXWRGv4lZnZ00GVpK/XhS1jdBXQGJjjnZjnn7gm6QKUgMhDyAuAF/GCyxxTss24gcDpwSOS7OytSExVpkWr4IiIiIaAavoiISAgo4IuIiISAAr6IiEgIKOCLiIiEgAK+iIhICCjgi4iIhIACvoiISAgo4IuIiISAAr6IiEgIKOCLSJs55zo45+Y75+Y556riHrvPObfeOXdqUOUTEQV8EckCM1sNXINfKe/n0fudc6OBc4BfmNk/AyqeiKBc+iKSJc65cmA20APYFvgpcDtwjZldF2TZREQBX0SyyDl3NPAf4P+Ag4G7zOzCYEslIqCALyJZ5px7A9gT+CdwmulHRqQgqA9fRLLGOXcK0D9yc4WCvUjhUA1fRLLCOTcU35z/H2AdcDKwm5nNDbRgIgIo4ItIFjjn9gVeBKYDRwJbAnOB8WY2PMiyiYinJn0RaRPnXD9gPPABMNzM1prZx8D9wHHOuYGBFlBEANXwRaQNnHN9gNeAtcBAM/sy5rEtgI+AN81MQV8kYAr4IiIiIaAmfRERkRBQwBcREQkBBXwREZEQUMAXEREJAQV8ERGREFDAFxERCQEFfBERkRBQwBcREQkBBXwREZEQUMAXEREJgf8PbkElihBRGWoAAAAASUVORK5CYII=)"
      ]
    },
    {
      "cell_type": "code",
      "metadata": {
        "id": "v6ExEyJd18vT",
        "colab": {
          "base_uri": "https://localhost:8080/",
          "height": 400
        },
        "outputId": "25527dbd-5a4f-4a71-945b-b2b870d7311c"
      },
      "source": [
        "###########################\n",
        "# DO NOT MODIFY THIS CELL #\n",
        "###########################\n",
        "\n",
        "# Generate training data, transform it, and fit a model to it\n",
        "X, y = generate_nonlinear_data(-5, 5)\n",
        "poly_features = get_poly_features()\n",
        "X_poly = fit_transform(X, poly_features)\n",
        "lin_model = fit_lin_model(X_poly, y)\n",
        "\n",
        "# Generate new data and predict its y values\n",
        "X_new = np.linspace(-5, 5, 500).reshape(500, 1)\n",
        "X_new_poly = poly_features.transform(X_new)\n",
        "y_new = lin_model.predict(X_new_poly)\n",
        "\n",
        "# Plot the data and fitted model\n",
        "plt.figure(figsize=(8, 6))\n",
        "plt.plot(X, y, \"b.\")\n",
        "plt.plot(X_new, y_new, \"r-\", linewidth=2, label=\"Model\")\n",
        "plt.xlabel(\"$x$\", fontsize=18)\n",
        "plt.ylabel(\"$y$\", rotation=0, fontsize=18)\n",
        "plt.legend(loc=\"upper left\", fontsize=14)\n",
        "plt.axis([-5, 5, -10, 10])\n",
        "plt.show()"
      ],
      "execution_count": 26,
      "outputs": [
        {
          "output_type": "display_data",
          "data": {
            "image/png": "[encoded data removed]",
            "text/plain": [
              "<Figure size 576x432 with 1 Axes>"
            ]
          },
          "metadata": {
            "needs_background": "light"
          }
        }
      ]
    },
    {
      "cell_type": "code",
      "metadata": {
        "id": "QP8Y4-g-s2IL"
      },
      "source": [
        ""
      ],
      "execution_count": null,
      "outputs": []
    }
  ]
}