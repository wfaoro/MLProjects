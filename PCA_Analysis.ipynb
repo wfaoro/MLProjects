{
  "nbformat": 4,
  "nbformat_minor": 0,
  "metadata": {
    "colab": {
      "name": "William Faoro PS7.ipynb",
      "provenance": [],
      "collapsed_sections": []
    },
    "kernelspec": {
      "name": "python3",
      "display_name": "Python 3"
    }
  },
  "cells": [
    {
      "cell_type": "markdown",
      "metadata": {
        "id": "bhcnqfawZhmx"
      },
      "source": [
        "# Problem Set 7: Backpropagation\n",
        "# CMSC 422, Fall 2021\n",
        "# Due Nov 18 at 11:59pm\n",
        "\n",
        "<center>\n",
        "<img src=\"https://miro.medium.com/max/1914/1*F9capAHwl_rz2-Q8z511WQ.jpeg\" alt=\"meme\" width=\"500px\"/>\n",
        "</center>"
      ]
    },
    {
      "cell_type": "markdown",
      "metadata": {
        "id": "Ooh3KTatYqgl"
      },
      "source": [
        "# Instructions\n",
        "In this problem set you will implement backpropagation for a set of different neural network architectures.\n",
        "There is some code provided for you here, and you will write your implementations in the places marked with __```#TODO: Your Code Here```__. You may add helper functions if you feel you need to.\n",
        "\n",
        "__Analysis Questions:__ In addition to Python programming, each problem will contain some analysis questions (under __Analysis__). These are meant to ensure you understand your results, and will be manually graded on Gradescope.\n",
        "\n",
        "__Submission:__ download this notebook as a `.ipynb` file and submit it to Gradescope. This assignment will be partially autograded so follow instructions closely.  \n",
        " \n",
        "- Make sure your plots are visible when downloading the notebook, otherwise they won't appear on Gradescope. \n",
        "- Make sure your code cells are not throwing exceptions.\n",
        "- Please do not import any packages other than what has already been imported here. You may be penalized for doing so.\n",
        "- Lastly, the autograder times out after 40 minutes, so make sure your implementation is relativly efficient (e.g. by using numpy for matrix operations). Our implementation took a little over 10 minutes to test."
      ]
    },
    {
      "cell_type": "markdown",
      "metadata": {
        "id": "lOtWraGuaWzc"
      },
      "source": [
        "# Problems"
      ]
    },
    {
      "cell_type": "markdown",
      "metadata": {
        "id": "noBuJ-fIZJ0m"
      },
      "source": [
        "## Problem 1 (25 Points)\n",
        "We'll begin with the simplest possible network (a single layer perceptron). It has a single input feature that we call $x$. This is the activation of the single node of the input layer. This is connected to a single output node, which has a weight, $w$. We also have a bias term, so the activation of the output unit is $a = wx + b$. This network will be used to solve a linear regression problem. So, if we are given an input pair of $(x,y)$, we want to minimize the loss: \n",
        "\n",
        "$$L(x,y) = \\frac{1}{1+e^{-(a-y)^2}} - \\frac{1}{2}$$\n",
        "\n",
        "To do this, you will need to randomly initialize the weight and bias and then perform gradient descent.\n",
        "<br>\n",
        "<br>\n",
        "<center>\n",
        "<img src=\"https://drive.google.com/thumbnail?id=1Qz8jJaPXbVzoL44Nd4nbQgFHOA8G_XyI&sz=w1000\" alt=\"net1\" width=\"150px\"/>\n",
        "<br>\n",
        "<i>Figure 1: Network for Problem 1</i>\n",
        "</center>\n",
        "<br>\n",
        "<br>\n",
        "The gradient of the loss is computed using a training set containing pairs, $(x_1, y_1), (x_2, y_2), ... (x_n, y_n)$. We have:\n",
        "\n",
        "$$\\nabla L = \\frac{1}{n} \\sum_{i=1}^n \\left( \\frac{\\partial L}{\\partial w}(x_i, y_i), \\frac{\\partial L}{\\partial b}(x_i, y_i)  \\right)$$\n",
        "\n",
        "If we denote $\\theta = (w,b)$ as a vector containing all the parameters of the network, we perform gradient\n",
        "descent with the update:\n",
        "\n",
        "$$\\theta^k = \\theta^{k-1} - \\eta \\nabla L$$\n",
        "\n",
        "Here $\\eta$ is the learning rate, and $\\theta^k$ denotes a vector of $(w,b)$ after the $k$'th iteration of gradient descent. Do not mistake $\\eta$ (the learning rate) for $n$ (the number of data points).\n",
        "We provide you with a routine to generate training data. This has the form: \n",
        "\n",
        "```simplest_training_data(n)```  \n",
        "  \n",
        "This just generates $n$ random training points on the line $y = 3x + 2$, with a little Gaussian noise added to the points.  \n",
        "You need to write a routine with the form: \n",
        "\n",
        "```simplest_training(n, k, eta)```\n",
        "\n",
        "Here $n$ indicates the number of points in the training set (you can call `simplest_training_data` to get the training data), $k$ indicates the total number of iterations that you will use in training, and $\\eta$ is the learning rate.  To initialize the weights in your network, we suggest that you initialize $w$ with a Gaussian random variable with mean 0 and variance of 1, and that you initialize $b = 0$.  \n",
        "You also need to write a routine of the form: \n",
        "\n",
        "```simplest_testing(theta, x)```\n",
        "\n",
        "This routine applies the network, using the parameters in theta, to the input values in the vector $x$, and returns a vector of results in $y$.\n",
        "After training, the network should learn $w$ and $b$ values that are similar to those used to train the network.  So you can test your network by looking at the learned $w$ and $b$ values.  Or you can use the testing algorithm to see if the network computes appropriate $y$ values.  In testing, you may find that if you use too big a value for $\\eta$ the network will not converge to anything meaningful.  If you use a value of $k$ that is too small, it won't have time to converge to a good solution.\n",
        "We run our algorithm with $n = 30, k = 10000, \\eta = .02$.   When we test using $x = (0, 1, ..., 9)$ we get the result:\n",
        "  \n",
        "```\n",
        "1.99107688  4.91908171  7.84708654 10.77509137 13.7030962  16.63110103 19.55910586 22.48711069 25.41511552 28.34312035\n",
        "```\n",
        "\n",
        "These points fit the line $y = 3x + 2$."
      ]
    },
    {
      "cell_type": "code",
      "metadata": {
        "id": "xZsEHnFFs01Z"
      },
      "source": [
        "import numpy as np\n",
        "import math as m\n",
        "import sys\n",
        "\n",
        "###Problem 1\n",
        "###Provided function to create training data\n",
        "def simplest_training_data(n): # Do NOT edit this function: simplest_training_data(n)!\n",
        "    m = 3\n",
        "    b = 2\n",
        "    x = np.random.uniform(0,1,n)\n",
        "    y = m*x+b+0.3*np.random.normal(0,1,n)\n",
        "    return (x,y)\n",
        "    \n",
        "def find_dev(x,y,w,b):\n",
        "  z = ((w*x) + b - y)**2\n",
        "  dl_dw = 2 * np.exp(-z)*(1+np.exp(-z))**(-2)*x*(w*x + b - y)\n",
        "  dl_db = 2 * np.exp(-z)*(1+np.exp(-z))**(-2)*(w*x + b - y)*1\n",
        "  return dl_dw,dl_db\n",
        "\n",
        "def simplest_training(n, k, eta):\n",
        "  np.random.seed(0)\n",
        "  # TODO: implement this method.\n",
        "  # Perform gradient descent k times with learning rate eta\n",
        "  # and n training data points.\n",
        "  # theta contains the learned parameters after training.\n",
        "  trainX, trainY = simplest_training_data(n)\n",
        "  w = np.random.normal(0,1)\n",
        "  b = 0\n",
        "  for i in range(k):\n",
        "    loss_grad = [0,0]\n",
        "    dl_dw_epoch = 0\n",
        "    dl_db_epoch = 0\n",
        "    for j in range(n):\n",
        "      dl_dw,dl_db = find_dev(trainX[j],trainY[j],w,b)\n",
        "      dl_dw_epoch+=dl_dw\n",
        "      dl_db_epoch+=dl_db\n",
        "    dl_dw_epoch = dl_dw_epoch/n\n",
        "    dl_db_epoch = dl_db_epoch/n\n",
        "    w -= (eta*dl_dw_epoch)\n",
        "    b -= (eta*dl_db_epoch)\n",
        "    \n",
        "  theta = (w,b)\n",
        "  return theta \n",
        "\n",
        "\n",
        "def simplest_testing(theta, x):\n",
        "  # TODO: implement this method.\n",
        "  # Use the learned theta to classify given test data x.\n",
        "  # y stores the list of labels predicted by the model corresponding to each data in x.\n",
        "  (w,b) = theta\n",
        "  return w*x+b\n",
        "\n",
        "def simplest_loss(theta, x):\n",
        "  # TODO: implement this method for finding average loss\n",
        "  # Compute the average loss (use the loss function given in the question)\n",
        "  # for data points in x using theta.\n",
        "  # Return loss, a scalar value.\n",
        "  (w, b) = theta\n",
        "  lossvals = []\n",
        "  \n",
        "  for i in range(0, len(x)):\n",
        "    loss = (1/(1 + np.exp(-((w * i + b) - (3 * i + 2))**2))) - (1/2)\n",
        "    lossvals.append(loss)\n",
        "\n",
        "  sum_vals = sum(lossvals)\n",
        "  result_vals = sum_vals/len(lossvals)\n",
        "  return result_vals\n"
      ],
      "execution_count": null,
      "outputs": []
    },
    {
      "cell_type": "code",
      "metadata": {
        "colab": {
          "base_uri": "https://localhost:8080/"
        },
        "id": "ciBosF73d-mh",
        "outputId": "7cc78abe-698e-49ed-ba45-3ff09e419e8a"
      },
      "source": [
        "theta = simplest_training(30,10000,.02)\n",
        "eqn = simplest_testing(theta, np.arange(0,10))\n",
        "print(eqn)\n",
        "loss_vals = simplest_loss(theta, np.arange(0,10))\n",
        "print(loss_vals)\n",
        "\n",
        "theta = simplest_training(2,10000,.02)\n",
        "loss_vals = simplest_loss(theta, np.arange(0,10))\n",
        "print(loss_vals)\n",
        "\n",
        "\n",
        "theta = simplest_training(30,100,5)\n",
        "loss_vals = simplest_loss(theta, np.arange(0,10))\n",
        "print(loss_vals)\n",
        "\n",
        "\n",
        "theta = simplest_training(30,10000,.000002)\n",
        "loss_vals = simplest_loss(theta, np.arange(0,10))\n",
        "print(loss_vals)\n",
        "\n"
      ],
      "execution_count": null,
      "outputs": [
        {
          "output_type": "stream",
          "name": "stdout",
          "text": [
            "[ 2.05180272  4.91225119  7.77269966 10.63314812 13.49359659 16.35404506\n",
            " 19.21449353 22.074942   24.93539046 27.79583893]\n",
            "0.11334650988674352\n",
            "0.49507467561850776\n",
            "0.08264435497582397\n",
            "0.4982003413354832\n"
          ]
        }
      ]
    },
    {
      "cell_type": "markdown",
      "metadata": {
        "id": "cBZDJthCOAOw"
      },
      "source": [
        "### Analysis (10 Points)\n",
        "Answer the following questions (a - e):\n",
        "\n",
        "a) What is the average loss for test data for $x = (0, 1, ..., 9)$ using model\n",
        "with $n = 30, k = 10000, \\eta = 0.02$? (Only write the float value below)\n",
        "\n",
        "b) What is the average loss for test data for $x = (0, 1, ..., 9)$ using model\n",
        "with $n = 2, k = 10000, \\eta = 0.02$? (Only write the float value below)\n",
        "\n",
        "c) What is the average loss for test data for $x = (0, 1, ..., 9)$ using model\n",
        "with $n = 30, k = 100, \\eta = 5$? (Only write the float value below)\n",
        "\n",
        "d) What is the average loss for test data for $x = (0, 1, ..., 9)$ using model\n",
        "with $n = 30, k = 10000, \\eta = 0.000002$? (Only write the float value below)\n",
        "\n",
        "e) Are the average loss values you get in each cases above (b-d) differ from that (a)? Why? **(Explain in less than 50 words. You will be penalized if the answer exceeds the word limit.)**\n",
        "\n",
        "\\\\\n",
        "\n",
        "\n",
        "- !!! _YOUR RESPONSE HERE_ !!!\n",
        "\n",
        "**a)** 0.11334650988674352\n",
        "\n",
        "**b)** 0.49507467561850776\n",
        "\n",
        "**c)** 0.08264435497582397\n",
        "\n",
        "**d)** 0.4982003413354832\n",
        "\n",
        "**e)** Loss functions measure how good your prediction model does in terms of getting the expected outcome correct. with the goal of minimizing the result of the loss function. The avg loss values differ from 1) because the learning rate, num data points, and training repetitions are being adjusted.\n"
      ]
    },
    {
      "cell_type": "markdown",
      "metadata": {
        "id": "-KBU60MFa84o"
      },
      "source": [
        "## Problem 2 (35 Points)\n",
        "You will now create a network that is a little more complicated. It still contains just an input and an output layer, with no hidden layers. But it now has a nonlinearity along with a cross-entropy loss, so that we can use it for classification.\n",
        "<br>\n",
        "<br>\n",
        "<center>\n",
        "<img src=\"https://drive.google.com/thumbnail?id=1UkNx6-HghYRsjrXbqB6jN04VUsA-_RKp&sz=w1000\" alt=\"net2\" width=\"400px\"/>\n",
        "<br>\n",
        "<i>Figure 2: Network for Problem 2</i>\n",
        "</center>\n",
        "<br>\n",
        "\n",
        "The network has two inputs, $x_1$ and $x_2$.  These are connected with two weights to a single output unit.  If we let $z = w_1x_1 + w_2x_2 + b$, the output unit will have an activation of $a = \\sigma(z)$, where $\\sigma(z)$ represents the sigmoid function:\n",
        "\n",
        "$$\\sigma(z) = \\frac{1}{1+e^{-z}}$$\n",
        "\n",
        "We can interpret the output as giving the probability that the input belongs to class 1. If the probability is low, then the input probably belongs to class 0. Hint: the derivative of the sigmoid is given by:\n",
        "\n",
        "$$\\frac{d\\sigma}{dz} = \\sigma(z)(1-\\sigma(z))$$\n",
        "\n",
        "In training the network, you will use the cross-entropy loss. In this case, the cross entropy loss will be:\n",
        "\n",
        "$$L_{CE}(x,y) = -(y\\log{a} + (1-y)\\log{(1-a)})$$\n",
        "\n",
        "If $y = 1$, this is just the negative log of what the network predicts for the probability that the input belongs to class 1.  If $y = 0$, it is the negative log of the probability that the input belongs to class 0.\n",
        "We provide you with a routine to generate training data. This has the form:\n",
        "\n",
        "```single_layer_training_data(trainset)```  \n",
        "    \n",
        "which returns $X$ and $y$.\n",
        "This provides two different training sets.  When the input, trainset, is 1, the function produces a simple, linearly separable training set.  Half the points are near $(0,0)$ and half are near $(10,10)$.  $X$ is a matrix in which each row contains one of these points, so it is $n \\times 2$, where $n$ is the number of points.  $y$ is a vector of class labels, which have the value 1 for the points near $(0,0)$ and 0 for the points near $(10,10)$.\n",
        "\n",
        "When trainset is 2, we generate a different training set that is not linearly separable, but that corresponds to the Xor problem.  Points from class 1 are either near $(0,0)$ or $(10,10)$, while points in class 0 are near either $(10,0)$ or $(0,10)$.\n",
        "\n",
        "You will need to implement two routines.  \n",
        "The first is: \n",
        "\n",
        "```single_layer_training(k, eta, trainset)```  \n",
        "  \n",
        "As before, $k$ will indicate the number of iterations of gradient descent and eta gives the learning rate.  trainset indicates which training set to use, 1 or 2.  You will train the network using the same gradient descent approach as in the previous problem.  As before, we suggest that you initialize weights using random values chosen from a Gaussian distribution with zero mean, and that you initialize bias at 0.  \n",
        "\n",
        "You will also implement a test routine: \n",
        "\n",
        "```single_layer_testing(theta, X)```  \n",
        "  \n",
        "This takes in the network parameters and a matrix, $X$, of the form returned by single\\_layer\\_training\\_data.  It returns a vector of the output values the network computes.\n",
        "\n",
        "__Remember__: The `trainset` argument is the integer to be used to generate data with `single_layer_training_data(trainset)`, it is NOT the training dataset."
      ]
    },
    {
      "cell_type": "code",
      "metadata": {
        "id": "4sLnCceZtHFv"
      },
      "source": [
        "###Problem 2\n",
        "###Provided function to create training data\n",
        "def single_layer_training_data(trainset):\n",
        "    n = 10\n",
        "    if trainset == 1:\n",
        "    # Linearly separable\n",
        "        X = np.concatenate((np.random.normal((0,0),1,(n,2)), np.random.normal((10,10),1,(n,2))),axis=0)\n",
        "        y = np.concatenate((np.ones(n), np.zeros(n)),axis=0)\n",
        "\n",
        "    elif trainset == 2:\n",
        "        # Not Linearly Separable\n",
        "        X = np.concatenate((np.random.normal((0,0),1,(n,2)), np.random.normal((10,10),1,(n,2)), np.random.normal((10,0),1,(n,2)), np.random.normal((0,10),1,(n,2))),axis=0)\n",
        "        y = np.concatenate((np.ones(2*n), np.zeros(2*n)), axis=0)\n",
        "\n",
        "    else:\n",
        "        print (\"function single_layer_training_data undefined for input\", trainset)\n",
        "        sys.exit()\n",
        "\n",
        "    return (X,y)\n",
        "\n",
        "def find_devs(x1, x2, y, w1, w2, b):\n",
        "  z = (w1*x1) + (w2*x2) + b\n",
        "  sigma = 1/(1+np.exp(-z))\n",
        "\n",
        "  dL_dsigma = -(y/sigma) + (1-y)/(1-sigma)\n",
        "\n",
        "  dsigma_ds = 1\n",
        "\n",
        "  ds_dz = (sigma)*(1-sigma)\n",
        "\n",
        "  dz_dw1 = x1\n",
        "  dz_dw2 = x2\n",
        "  dz_db = 1\n",
        "\n",
        "  dL_dw1 = dL_dsigma * dsigma_ds * ds_dz * dz_dw1\n",
        "  dL_dw2 = dL_dsigma  * dsigma_ds * ds_dz * dz_dw2\n",
        "  dL_db = dL_dsigma * dsigma_ds * ds_dz * dz_db\n",
        "\n",
        "  return (dL_dw1, dL_dw2, dL_db)\n",
        "\n",
        "def single_layer_training(k, eta, trainset):\n",
        "  #TODO: Your Code Here\n",
        "  w1 = np.random.normal(0,1)\n",
        "  w2 = np.random.normal(0,1)\n",
        "  b = 0\n",
        "\n",
        "  training_data = single_layer_training_data(trainset) \n",
        "  (X, y) = training_data\n",
        "  matrix = []\n",
        "\n",
        "  for i in range(len(X)):\n",
        "    matVals = [X[i][0], X[i][0], y[i]]\n",
        "    matrix.append(matVals)\n",
        "\n",
        "  np.random.shuffle(X)\n",
        "\n",
        "  for i in range(k):\n",
        "    t_w1 = 0\n",
        "    t_w2 = 0\n",
        "    t_b = 0\n",
        "    n = len(X)\n",
        "    for j in range(len(matrix)):\n",
        "      loss = find_devs(matrix[j][0], matrix[j][1], matrix[j][2], w1, w2, b)\n",
        "      (dw1, dw2, db) = loss\n",
        "      t_w1 += dw1\n",
        "      t_w2 += dw2\n",
        "      t_b += db\n",
        "    w1 -= (eta * (t_w1 / n))\n",
        "    w2 -= (eta * (t_w2 / n))\n",
        "    b -= (eta * (t_b / n))\n",
        "  return ((w1, w2), b)\n",
        "\n",
        "def single_layer_testing(theta, X):\n",
        "  #TODO: Your Code Here\n",
        "  ((w1, w2), b) = theta\n",
        "  sigmoidZs = []\n",
        "  for i in range(len(X)):\n",
        "    (x1, x2) = X[i] \n",
        "    z = (w1 * x1) + (w2 * x2) + b\n",
        "    sigma = 1/(1 + np.exp(-z))\n",
        "    sigmoidZs.append(sigma)\n",
        "    \n",
        "  print(sigmoidZs)\n",
        "  return sigmoidZs"
      ],
      "execution_count": null,
      "outputs": []
    },
    {
      "cell_type": "code",
      "metadata": {
        "colab": {
          "base_uri": "https://localhost:8080/",
          "height": 319
        },
        "id": "PGXjcb1HsTqI",
        "outputId": "eaad4c68-ac08-4ac7-85a2-f0e84bb6a970"
      },
      "source": [
        "import matplotlib.pyplot as plt\n",
        "\n",
        "((w1,w2),b) = single_layer_training(10000,.01,1)\n",
        "print(((w1,w2),b))\n",
        "(X,y) = single_layer_training_data(1)\n",
        "plt.scatter(X[:,0],X[:,1])\n",
        "single_layer_testing(((w1,w2),b),X)\n",
        "x = X[:,0]\n",
        "y = -(w1/w2)*x-(b/w2)\n",
        "plt.plot(x,y)\n",
        "plt.show()\n",
        "\n",
        "\n"
      ],
      "execution_count": null,
      "outputs": [
        {
          "output_type": "stream",
          "name": "stdout",
          "text": [
            "((-1.1687472261840932, -0.016297270400337176), 3.7486868006711265)\n",
            "[0.9483912570427515, 0.9978731277873918, 0.9900208533685163, 0.859411394423279, 0.9900607338589897, 0.9801306752373988, 0.9759670177497659, 0.9661959326403218, 0.9832626733742033, 0.9973260279579421, 0.0005399304818221872, 7.590772263339853e-05, 0.0003582424113748611, 0.000478722638093387, 0.0003410713409269287, 0.00015013377372490372, 0.00017852490713513093, 0.0002985414221430242, 0.0011615578522583062, 0.00015422786709420937]\n"
          ]
        },
        {
          "output_type": "display_data",
          "data": {
            "image/png": "[encoded data removed]",
            "text/plain": [
              "<Figure size 432x288 with 1 Axes>"
            ]
          },
          "metadata": {
            "needs_background": "light"
          }
        }
      ]
    },
    {
      "cell_type": "code",
      "metadata": {
        "colab": {
          "base_uri": "https://localhost:8080/",
          "height": 319
        },
        "id": "yIPjk0iDHmc1",
        "outputId": "851ad0a4-d7fc-4d1d-89c2-7108cb391734"
      },
      "source": [
        "import matplotlib.pyplot as plt\n",
        "\n",
        "((w1,w2),b) = single_layer_training(10000,.0001,2)\n",
        "print(((w1,w2),b))\n",
        "(X,y) = single_layer_training_data(2)\n",
        "plt.scatter(X[:,0],X[:,1])\n",
        "single_layer_testing(((w1,w2),b),X)\n",
        "x = X[:,0]\n",
        "y = -(w1/w2)*x-(b/w2)\n",
        "plt.plot(x,y)\n",
        "plt.show()"
      ],
      "execution_count": null,
      "outputs": [
        {
          "output_type": "stream",
          "name": "stdout",
          "text": [
            "((0.5795080770669806, -0.5914627936924958), 0.018212082802726383)\n",
            "[0.28284808015927726, 0.5388166682364285, 0.962424742191488, 0.7463448253442527, 0.6891054805556073, 0.6574825586811008, 0.6514365234357786, 0.34643011045474, 0.5877927361473143, 0.5933741485413023, 0.5879009293925279, 0.8030445647342483, 0.43792557344135075, 0.26391792522595525, 0.6995134263632634, 0.3716424248944848, 0.8364534000045191, 0.5369476182894489, 0.45439153181508346, 0.532093094000348, 0.9785297308894978, 0.9918140270756267, 0.9980706877343545, 0.9922413952758988, 0.9975617008780221, 0.9954496960989051, 0.9966783004400137, 0.9875163094776116, 0.9977528140393166, 0.9985419196991638, 0.0010148631795053441, 0.0006566422663819137, 0.0031099346276409227, 0.004772842985158183, 0.0007458358137676979, 0.010574275431838956, 0.008624645774088186, 0.0030030868775248677, 0.0046500946008242675, 0.004036021950989408]\n"
          ]
        },
        {
          "output_type": "display_data",
          "data": {
            "image/png": "[encoded data removed]",
            "text/plain": [
              "<Figure size 432x288 with 1 Axes>"
            ]
          },
          "metadata": {
            "needs_background": "light"
          }
        }
      ]
    },
    {
      "cell_type": "code",
      "metadata": {
        "colab": {
          "base_uri": "https://localhost:8080/"
        },
        "id": "qKezMZl3VVrR",
        "outputId": "d02f9830-ae91-40f9-e118-da7b4687e0db"
      },
      "source": [
        "(X,y) = single_layer_training_data(1)\n",
        "(X1,y1) = single_layer_training_data(2)\n",
        "print(X)\n",
        "print(X1)"
      ],
      "execution_count": null,
      "outputs": [
        {
          "output_type": "stream",
          "name": "stdout",
          "text": [
            "[[-1.34704629 -0.09519928]\n",
            " [-0.22772779  0.43243668]\n",
            " [ 0.46693969 -1.3402814 ]\n",
            " [ 1.42285966  0.99379727]\n",
            " [-0.61651086  0.20493776]\n",
            " [-0.47954552  1.51238621]\n",
            " [-1.34683907 -2.78073771]\n",
            " [-0.0894738   0.55814156]\n",
            " [ 0.75572522  0.47821507]\n",
            " [-0.05390584 -1.24190139]\n",
            " [ 8.34150469  9.64662831]\n",
            " [11.6565077  11.51191283]\n",
            " [ 9.09319571  9.22278267]\n",
            " [ 9.26077191 10.9879891 ]\n",
            " [ 9.97352728  8.73733065]\n",
            " [ 8.43883486  9.06064615]\n",
            " [10.33545292  8.51024839]\n",
            " [ 8.93308925 11.03586292]\n",
            " [10.63131327  8.10563329]\n",
            " [10.03657141  9.68749781]]\n",
            "[[ 0.81424771  0.38240436]\n",
            " [ 1.64666591  0.22755337]\n",
            " [-1.3998746  -2.16131299]\n",
            " [ 0.28075023  0.40276401]\n",
            " [-0.71315197  0.81444016]\n",
            " [ 1.52375071 -0.59070442]\n",
            " [ 1.93479887 -0.92729301]\n",
            " [ 1.49433078 -0.82553065]\n",
            " [-0.70024184  0.3731913 ]\n",
            " [ 0.06268525 -1.02587916]\n",
            " [10.96301578  8.50771079]\n",
            " [11.09990115  9.71134036]\n",
            " [10.68145931 10.0319686 ]\n",
            " [10.9993242   7.57649067]\n",
            " [10.22760985 10.67641414]\n",
            " [10.04576622 10.3169048 ]\n",
            " [10.70293513 10.72661905]\n",
            " [12.08885756  9.29285197]\n",
            " [ 9.54298449 10.36950545]\n",
            " [10.97481869  9.63148649]\n",
            " [ 8.14395338  0.05021337]\n",
            " [ 9.58882218  0.04416541]\n",
            " [ 7.73677505 -0.24681177]\n",
            " [ 8.85238166 -0.29397299]\n",
            " [ 9.43983232  1.74827352]\n",
            " [10.30475977 -1.34689448]\n",
            " [ 9.45153883  0.45792694]\n",
            " [ 9.95621342 -0.68038383]\n",
            " [11.91826072  1.08073328]\n",
            " [11.34614637  0.23704865]\n",
            " [ 0.0204918  11.21258917]\n",
            " [-0.46221828 11.28413427]\n",
            " [-0.15320917 10.99577936]\n",
            " [ 0.10058525  9.6494235 ]\n",
            " [ 0.7761159  11.05589884]\n",
            " [-2.2603262   8.5428978 ]\n",
            " [ 1.46977145  8.96574964]\n",
            " [ 0.11494231  8.83620201]\n",
            " [ 0.98785397  9.68265042]\n",
            " [-0.68060621 10.38756993]]\n"
          ]
        }
      ]
    },
    {
      "cell_type": "markdown",
      "metadata": {
        "id": "Ty4jZ23sPvVA"
      },
      "source": [
        "### Analysis (10 Points)\n",
        "Do not use the data you used to train the network, call `single_layer_training_data` again to get fresh data for testing. Answer the following questions in this cell:\n",
        "\n",
        "a) What is the value of theta when k = 10000, $\\eta$=0.01, for trainset = 1? (((-1.1687472261840932, -0.016297270400337176), 3.7486868006711265)\n",
        "((w1,w2),b)\n",
        "\n",
        "b) Plot a figure for datapoints and the linearly separator the algorithm calculated under the condition in a).\n",
        "\n",
        "Done Above\n",
        "\n",
        "c) What is the value of theta when k = 10000, $\\eta$=0.0001, for trainset = 2? \n",
        "((0.5795080770669806, -0.5914627936924958), 0.018212082802726383)\n",
        "((w1,w2),b)\n",
        "\n",
        "d) Plot a figure for datapoints and the linearly separator the algorithm calculated under the condition in c).\n",
        "\n",
        "\n",
        "Done Above\n",
        "\n",
        "e) When trainset = 1, your network should assign a high probability of belonging to class 1 for points near $(0,0)$, and a low probability for points near $(10,10)$.  When trainset = 2, the data is not linearly separable, so you may find that your network has problems being able to separate. Use sample network outputs to describe what happens for the two trainsets. **(Explain in less than 50 words. You will be penalized if the answer exceeds the word limit.)**\n",
        "\n"
      ]
    },
    {
      "cell_type": "markdown",
      "metadata": {
        "id": "dBqMD3voqug8"
      },
      "source": [
        "## Problem 3 (40 Points)\n",
        "<center>\n",
        "<img src=\"https://drive.google.com/thumbnail?id=1lZQ1CnQUDD-kiyL-FtDu0UTO1dmEy-Oq&sz=w1000\" alt=\"net3\" width=\"400px\"/>\n",
        "<br>\n",
        "<i>Figure 3: Network for Problem 3</i>\n",
        "</center>\n",
        "<br>\n",
        "<br>\n",
        "Now you will implement a multi-layer network that has a hidden layer.  To start with a relatively simple case, we will do this without any non-linearities. The network has two input units, $x_1$ and $x_2$.  These are connected to a single hidden unit.  We'll call the activation of this hidden unit $h$, so $h = w_{11}x_1 + w_{12}x_2 + b_{11}$.  This hidden unit is connected to two output units.  We'll call their activation $z_1$ and $z_2$, so we have:\n",
        "\n",
        "$$z_1 = w_{21}h + b_{21}~~~~~~~~~~~z_2 = w_{22}h + b_{22}$$\n",
        "\n",
        "To train this network, we use a loss function that says that we want the output to be close to the input.  So the loss function is:  \n",
        "  \n",
        "$$L(x_1, x_2) = (z_1 - x_1)^2 + (z_2 - x_2)^2$$\n",
        "    \n",
        "That is, the input is also acting as the label.  This kind of network is called an **auto-encoder**.  You may be wondering what the point of this is.  Because the hidden layer is smaller than the input and output layers, the network is forced to learn low-dimensional representation of the data.  In this case, the network learns to map the input points onto a line in the hidden layer, and then compute the 2D coordinates of the points on this line for the output layer.  This process is called Principal Component Analysis (PCA).\n",
        "\n",
        "We will provide a routine to generate training data:\n",
        "\n",
        "```pca_training_data(n, sigma)```  \n",
        "  \n",
        "The input parameter $n$ indicates the number of points in the training set.  As in the last problem, $X$ contains a $n \\times 2$ matrix in which each row contains the coordinates of a 2D point.  These points are generated to lie along the line $y = x + 1$.  Then Gaussian noise is added to the points, with zero mean and a standard deviation of sigma.\n",
        "\n",
        "Once again, you will implement training and testing routines.  \n",
        "  \n",
        "`pca_training(k, eta, n, sigma)`  \n",
        "  \n",
        "The input $k$ gives the number of iterations of gradient descent to use, while $eta$ gives the learning rate.  The input value $n$ indicates the number of points in the training set, while $sigma$ indicates the amount of noise added to these points.  Use these as parameters to pca\\_training\\_data.  The routine returns theta, a representation of all the weights and biases in the network.\n",
        "Also implement a test routine: \n",
        "\n",
        "```pca_test(theta, X)```  \n",
        "  \n",
        "$X$ will contain test data in the form returned by pca\\_training\\_data.  $Z$ provides the results the network produces given this input; $Z$ has the same format as $X$.  \n",
        "\n",
        "To test this, try training the network with $n = 10$ and $sigma = .1$.  Then test, using the input: `pca_test(theta, [[1,2], [4,5], [10, 3]])`.  \n",
        "  \n",
        "When I run my  code with this test I get: `[[0.9418, 2.0653], [3.9543, 5.0511], [6.1780, 7.2551]]`.  \n",
        "\n"
      ]
    },
    {
      "cell_type": "code",
      "metadata": {
        "id": "OI3FF-JptKqI"
      },
      "source": [
        "###Problem 3\n",
        "###Provided function to create training data\n",
        "def pca_training_data(n, sigma):\n",
        "    m = 1\n",
        "    b = 1\n",
        "    x1 = np.random.uniform(0,10,n)\n",
        "    x2 = m*x1+b\n",
        "    X = np.c_[x1, x2]\n",
        "    X += np.random.normal(0, sigma, X.shape)\n",
        "    return X\n",
        "\n",
        "def find_devsLarge(x1,x2,theta):\n",
        "  ws,bs = theta\n",
        "  (w11, w12, w21, w22) = ws\n",
        "  (b11,b21,b22) = bs\n",
        "\n",
        "  h = (w11 * x1) + (w12 * x2) + b11\n",
        "\n",
        "  z1 = (w21 * h) + b21\n",
        "  z2 = (w22 * h) + b22\n",
        "\n",
        "  dL_dh = 2.0 * w21 * (z1 - x1) + 2.0 * w22 * (z2 - x2)\n",
        "\n",
        "  dh_db11 = 1\n",
        "  dL_b11 = dL_dh * dh_db11\n",
        "\n",
        "  dL_dz1 = 2.0 * (z1 - x1)\n",
        "  dz1_db21 = 1.0\n",
        "  dz2_db22 = 1.0\n",
        "  dL_db21 = dL_dz1 * dz1_db21\n",
        "  dL_dz2 = 2.0 * (z2 - x2)\n",
        "  \n",
        "  dL_db22 = dL_dz2 * dz2_db22\n",
        "\n",
        "  bs = (dL_b11, dL_db21, dL_db22)\n",
        "\n",
        "  dL_dz1 = 2.0 * (z1 - x1)\n",
        "  dz1_dw21 = h\n",
        "  dL_dw21 = dL_dz1 * dz1_dw21\n",
        "\n",
        "  dL_dz2 = 2.0 * (z2 - x2)\n",
        "  dz2_dw22 = h\n",
        "  dL_dw22 = dL_dz2 * dz2_dw22\n",
        "\n",
        "  dh_dw11 = x1\n",
        "  dL_dw11 = dL_dh * dh_dw11\n",
        "\n",
        "  dh_dw12 = x2\n",
        "  dL_dw12 = dL_dh * dh_dw12\n",
        "\n",
        "  ws = (dL_dw11, dL_dw12, dL_dw21, dL_dw22)\n",
        "  return (ws, bs) \n",
        "  \n",
        "\n",
        "def pca_training(k, eta, n, sigma):\n",
        "    #TODO: Your Code Here\n",
        "    pca_TD = pca_training_data(n, sigma)\n",
        "    b11, b21, b22 = 0.0, 0.0, 0.0\n",
        "    w11, w12, w21, w22 = np.random.normal(0,1), np.random.normal(0,1), np.random.normal(0,1), np.random.normal(0,1)\n",
        "    n = len(pca_TD)\n",
        "\n",
        "    for i in range(k):\n",
        "      tot_b11, tot_b21, tot_b22 = 0, 0, 0\n",
        "      tot_w11, tot_w12, tot_w21, tot_w22 = 0, 0, 0, 0\n",
        "    \n",
        "      for j in range(len(pca_TD)):\n",
        "\n",
        "        x1, x2 = pca_TD[j]\n",
        "        ws = (w11, w12, w21, w22)\n",
        "        bs = (b11, b21, b22)\n",
        "        theta = (ws, bs)\n",
        "\n",
        "        dW, dB = find_devsLarge(x1, x2, theta)\n",
        "\n",
        "        (dw11, dw12, dw21, dw22) = dW\n",
        "        (db11, db21, db22) = dB\n",
        "\n",
        "        tot_w11 += dw11\n",
        "        tot_w12 += dw12\n",
        "        tot_w21 += dw21\n",
        "        tot_w22 += dw22\n",
        "        tot_b11 += db11\n",
        "        tot_b21 += db21\n",
        "        tot_b22 += db22\n",
        "\n",
        "      # print((w11, w12, w21, w22))\n",
        "      w11 -= (eta * (tot_w11/n))\n",
        "      w12 -= (eta * (tot_w12/n))\n",
        "      w21 -= (eta * (tot_w21/n))\n",
        "      w22 -= (eta * (tot_w22/n))\n",
        "      b11 -= (eta * (tot_b11/n))\n",
        "      b21 -= (eta * (tot_b21/n))\n",
        "      b22 -= (eta * (tot_b22/n))\n",
        "      # print((w11, w12, w21, w22))\n",
        "    ws = (w11, w12, w21, w22)\n",
        "    bs = (b11, b21, b22)\n",
        "    theta = (ws, bs)\n",
        "    return theta\n",
        "\n",
        "def pca_test(theta, X):\n",
        "    #TODO: Your Code Here\n",
        "    ws,bs = theta\n",
        "    w11, w12, w21, w22 = ws\n",
        "    b11, b21, b22 = bs\n",
        "    resultVals = []\n",
        "    for i in range(len(X)):\n",
        "      x1, x2 = X[i]\n",
        "      h = (w11 * x1) + (w12 * x2) + b11\n",
        "      z1 = (w21 * h) + b21\n",
        "      z2 = (w22 * h) + b22\n",
        "      resultVals.append([z1, z2])\n",
        "    return resultVals"
      ],
      "execution_count": null,
      "outputs": []
    },
    {
      "cell_type": "code",
      "metadata": {
        "colab": {
          "base_uri": "https://localhost:8080/"
        },
        "id": "17WXODJLefC0",
        "outputId": "886872e2-595c-401a-899e-b9fbe76ba829"
      },
      "source": [
        "theta = pca_training(100,.2,10,.1)\n",
        "pca_test(theta, [[1,2], [4,5], [10, 3]])"
      ],
      "execution_count": null,
      "outputs": [
        {
          "output_type": "stream",
          "name": "stderr",
          "text": [
            "/usr/local/lib/python3.7/dist-packages/ipykernel_launcher.py:19: RuntimeWarning: overflow encountered in double_scalars\n",
            "/usr/local/lib/python3.7/dist-packages/ipykernel_launcher.py:20: RuntimeWarning: overflow encountered in double_scalars\n",
            "/usr/local/lib/python3.7/dist-packages/ipykernel_launcher.py:19: RuntimeWarning: invalid value encountered in double_scalars\n",
            "/usr/local/lib/python3.7/dist-packages/ipykernel_launcher.py:20: RuntimeWarning: invalid value encountered in double_scalars\n"
          ]
        },
        {
          "output_type": "execute_result",
          "data": {
            "text/plain": [
              "[[nan, nan], [nan, nan], [nan, nan]]"
            ]
          },
          "metadata": {},
          "execution_count": 169
        }
      ]
    },
    {
      "cell_type": "markdown",
      "metadata": {
        "id": "PwXLKsE9QQjt"
      },
      "source": [
        "### Analysis (10 Points)\n",
        "It may take a little work to find good values for $k$ and $\\eta$.  Add a description of your experimental results inside this cell.  \n",
        "\n",
        "a) Can you explain why the network produces the point $(6.1780, 7.2551)$ with an input of $(10, 3)$? **(Explain in less than 30 words. You will be penalized if the answer exceeds the word limit.)**\n",
        "\n",
        "b) Do another test with $sigma = 0$ instead of $sigma = .1$.  Run your network with the same test data.  How have the results changed?  Can you explain this change? **(Explain in less than 30 words. You will be penalized if the answer exceeds the word limit.)**\n",
        "\n",
        "\\\\\n",
        "\n",
        "- !!! _YOUR RESPONSE HERE_ !!!\n",
        "\n",
        "**a)** The input (10,3) won't fit the line y = x + 1, so the point the network produces will not fit also.\n",
        "\n",
        "**b)** There's no noise with sigma = 0 instead of sigma = .1 so the network is able to fit the test data."
      ]
    },
    {
      "cell_type": "markdown",
      "metadata": {
        "id": "1Wep92fjrcgK"
      },
      "source": [
        "## Problem 4 (optional challenge problem, for extra credit, 20 points):\n",
        "Ok, now you are ready to create a complete, fully connected neural net with a hidden layer and non-linearities. You will use this network to solve the XOR problem, using the same training data as in Problem 2. Your network architecture should have the following components:\n",
        "- Two input units, with activations $x_1$ and $x_2$.  These are just the coordinates of 2D points.\n",
        "- A variable number of hidden units, H.  Write your code so that you can select the number of hidden units as a hyperparameter.  Let's call the activation of the $i$'th hidden unit, $a^1_i$.  Let's call the weights of these units $w^1_{ij}$.  This is the weight from input unit $j$ to hidden unit $i$.  \n",
        "- Use a RELU non-linearity for the hidden units.  So to determine the activation of a hidden unit we have: $z^1_i = w^1_{i1}x_1 + w^1_{i2}x_2 + b^1_i$, and $a^1_i = max(0, z^1_i)$.\n",
        "- There is then a single output unit.  Call its activation $a^2$.  We compute this as: $z^2 = \\left( \\sum_{i=1}^H w^2_{1i}a^1_i \\right) + b^2$, and $a^2 = \\sigma(z^2)$, where $\\sigma$ is the sigmoid nonlinearity.  This last part is just the same as in Problem 2.  And, like Problem 2, you can train your network using the cross-entropy loss.\n",
        "\n",
        "<center>\n",
        "<img src=\"https://drive.google.com/thumbnail?id=1qfLXZJsDFIwTfIdHxEP6HnJBmUrPGZsT&sz=w1000\" alt=\"net3\" width=\"400px\"/>\n",
        "<br>\n",
        "<i>Figure 4: Network for Problem 4</i>\n",
        "</center>\n",
        "<br>\n",
        "<br>\n",
        "\n",
        "Implement test and training functions with the templates:\n",
        "\n",
        "`nn_training(k, eta, trainset, H)`\n",
        "\n",
        "`nn_testing(theta, X)`\n",
        "\n",
        "The parameters to the training routine are similar to those in Problem 2, with $H$ indicating the number of hidden units.  The testing routine has the same form as in Problem 2.\n",
        "\n",
        "__Remember__: The `trainset` argument is the integer to be used to generate data with `single_layer_training_data(trainset)`, it is not the actual training dataset."
      ]
    },
    {
      "cell_type": "code",
      "metadata": {
        "id": "J3U68nvJtM1_"
      },
      "source": [
        "###Problem 4: Challenge Problem\n",
        "def nn_training(k, eta, trainset, H):\n",
        "    #TODO: Your Code Here\n",
        "    return theta\n",
        "\n",
        "def nn_testing(theta, X):\n",
        "    #TODO: Your Code Here\n",
        "    return y"
      ],
      "execution_count": null,
      "outputs": []
    },
    {
      "cell_type": "markdown",
      "metadata": {
        "id": "PJcDH94VQ3iV"
      },
      "source": [
        "### Analysis (5 Points)\n",
        "Run experiments to demonstrate that your network can solve the XOR problem. How do you find the results vary as you vary the number of hidden units?  Show and discuss the results of your experiments inside/below this cell.\n",
        "\n",
        "- !!! _YOUR RESPONSE HERE_ !!!"
      ]
    }
  ]
}